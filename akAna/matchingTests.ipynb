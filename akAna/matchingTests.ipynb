{
 "cells": [
  {
   "cell_type": "code",
   "execution_count": 1,
   "metadata": {},
   "outputs": [],
   "source": [
    "import uproot\n",
    "import numpy as np\n",
    "import numba\n",
    "import awkward1 as ak\n",
    "import os\n",
    "import optparse\n",
    "\n",
    "from data import getData\n",
    "from plot_utils import plotHist, plotCollection, plotEfficiency, combinePDFs\n",
    "from truth_utils import truth_link, dr_match"
   ]
  },
  {
   "cell_type": "code",
   "execution_count": 2,
   "metadata": {},
   "outputs": [
    {
     "name": "stdout",
     "output_type": "stream",
     "text": [
      "reading met skim file\n"
     ]
    }
   ],
   "source": [
    "cms_events = getData()"
   ]
  },
  {
   "cell_type": "code",
   "execution_count": 16,
   "metadata": {},
   "outputs": [
    {
     "data": {
      "text/plain": [
       "<Array [38.9, 132, 68.2, ... 186, 99.2, 141] type='24854 * ?float32'>"
      ]
     },
     "execution_count": 16,
     "metadata": {},
     "output_type": "execute_result"
    }
   ],
   "source": [
    "genparts = cms_events['genParticles']\n",
    "n1_mask = cms_events['genParticles'].pdgId==1000022\n",
    "ak.min(genparts[n1_mask][:,:3].pt,axis=1)"
   ]
  },
  {
   "cell_type": "code",
   "execution_count": null,
   "metadata": {},
   "outputs": [],
   "source": [
    "truth_builder = truth_link(cms_events['genParticles'], ak.ArrayBuilder())\n",
    "truth_extension = truth_builder.snapshot()\n",
    "ele_mask = np.abs(cms_events['genParticles']['pdgId']) == 11\n",
    "first_mask = truth_extension['isFirst']\n",
    "last_mask = np.abs(cms_events['genParticles']['status']) == 1 # equivalent to last                                                                                                            \n",
    "z_mask = truth_extension['motherPdgId'] == 23\n",
    "n2_mask = truth_extension['motherPdgId'] == 1000023\n",
    "gen_ele_mask = ele_mask & (z_mask | n2_mask) & last_mask\n",
    "truth_electrons = cms_events['genParticles'][gen_ele_mask]"
   ]
  },
  {
   "cell_type": "code",
   "execution_count": null,
   "metadata": {},
   "outputs": [],
   "source": [
    "reco_electrons = cms_events['softElectrons']\n",
    "#reco_electrons = cms_events['electrons']\n",
    "reco_cuts = {\n",
    "    \"all\": reco_electrons.pt > -1,\n",
    "#    \"looseMVA\": reco_electrons.mvaId > 0,\n",
    "#    \"tightMVA\": reco_electrons.mvaId > 5,\n",
    "    }\n"
   ]
  },
  {
   "cell_type": "code",
   "execution_count": null,
   "metadata": {},
   "outputs": [],
   "source": [
    "cut_name=\"all\"\n",
    "reco_mask = reco_cuts[cut_name]\n",
    "signal_electrons = reco_electrons[reco_mask]\n",
    "\n",
    "match_builder = dr_match(truth_electrons, signal_electrons, ak.ArrayBuilder(), doReco=False)\n",
    "match_extension = match_builder.snapshot()\n",
    "matching_truth_mask = match_extension.truth_to_reco_index >= 0\n",
    "# matching_reco_mask = match_extension.truth_to_reco_index[matching_truth_mask]                                                                                                      \n",
    "\n",
    "match_builderR = dr_match(truth_electrons, signal_electrons, ak.ArrayBuilder(), doReco=True)\n",
    "match_extensionR = match_builderR.snapshot()\n",
    "matching_reco_mask = match_extensionR.reco_to_truth_index >= 0\n",
    "nonmatching_reco_mask = match_extensionR.reco_to_truth_index < 0\n",
    "\n",
    "matched_truth = truth_electrons[matching_truth_mask]\n",
    "unmatched_truth = truth_electrons[~matching_truth_mask]\n",
    "matched_reco = signal_electrons[matching_reco_mask]\n",
    "unmatched_reco = signal_electrons[~matching_reco_mask]\n",
    "# unmatched_reco = signal_electrons[nonmatching_reco_mask]      "
   ]
  },
  {
   "cell_type": "code",
   "execution_count": null,
   "metadata": {},
   "outputs": [],
   "source": [
    "plotCollection([matched_reco,unmatched_reco], cut_name+\"_matching_reco\", leg=[\"matched\",\"unmatched\"],\n",
    "                           outDir=\"output_plots/diagnostic/match_comparison/reco_\"+cut_name, normAttrs=False)"
   ]
  },
  {
   "cell_type": "code",
   "execution_count": null,
   "metadata": {},
   "outputs": [],
   "source": [
    "attr='pt'\n",
    "objs = [matched_reco,unmatched_reco]\n",
    "vals = [ak.to_list(ak.flatten(o[attr])) for o in objs]\n",
    "#plotHist('test', var=attr, vals=ak.flatten(objs[attr]), outDir='.', norm=True)\n",
    "x = plotHist('test_'+attr, var=attr, vals=vals)"
   ]
  },
  {
   "cell_type": "code",
   "execution_count": null,
   "metadata": {},
   "outputs": [],
   "source": [
    "#help(matched_reco)"
   ]
  },
  {
   "cell_type": "code",
   "execution_count": null,
   "metadata": {},
   "outputs": [],
   "source": [
    "#reco_electrons[reco_electrons.pt > -1][0].pt\n",
    "#matching_reco_mask = match_extensionR.reco_to_truth_index >= 0\n",
    "#ak.to_list(matching_reco_mask[0])\n",
    "print(matched_reco.pt[0:5])\n",
    "print(ak.num(unmatched_reco.pt)[0:5])"
   ]
  },
  {
   "cell_type": "code",
   "execution_count": null,
   "metadata": {},
   "outputs": [],
   "source": [
    "nprint=10\n",
    "print(ak.num(truth_electrons)[:nprint])\n",
    "print(ak.num(reco_electrons)[:nprint])\n",
    "print(ak.to_list(truth_electrons.eta)[:nprint])\n",
    "print(ak.to_list(reco_electrons.eta)[:nprint])\n",
    "print(ak.to_list(truth_electrons.phi)[:nprint])\n",
    "print(ak.to_list(reco_electrons.phi)[:nprint])"
   ]
  },
  {
   "cell_type": "code",
   "execution_count": null,
   "metadata": {},
   "outputs": [],
   "source": [
    "print(ak.num(matched_truth.pt)[:nprint])\n",
    "print(ak.to_list(matched_truth.pt)[:nprint])"
   ]
  },
  {
   "cell_type": "code",
   "execution_count": null,
   "metadata": {},
   "outputs": [],
   "source": [
    "print(ak.num(unmatched_truth.pt)[:nprint])\n",
    "print(ak.to_list(unmatched_truth.pt)[:nprint])"
   ]
  },
  {
   "cell_type": "code",
   "execution_count": null,
   "metadata": {},
   "outputs": [],
   "source": [
    "print(ak.num(matched_reco.pt)[:nprint])\n",
    "print(ak.to_list(matched_reco.pt)[:nprint])"
   ]
  },
  {
   "cell_type": "code",
   "execution_count": null,
   "metadata": {},
   "outputs": [],
   "source": [
    "print(ak.num(unmatched_reco.pt)[:nprint])\n",
    "print(ak.to_list(unmatched_reco.pt)[:nprint])"
   ]
  },
  {
   "cell_type": "code",
   "execution_count": null,
   "metadata": {},
   "outputs": [],
   "source": [
    "print((ak.num(matched_truth.pt)+ak.num(unmatched_truth.pt))[:nprint])\n",
    "print(ak.num(truth_electrons)[:nprint])"
   ]
  },
  {
   "cell_type": "code",
   "execution_count": null,
   "metadata": {},
   "outputs": [],
   "source": [
    "print((ak.num(matched_reco.pt)+ak.num(unmatched_reco.pt))[:nprint])\n",
    "print(ak.num(reco_electrons)[:nprint])"
   ]
  },
  {
   "cell_type": "markdown",
   "metadata": {},
   "source": [
    "Now check that the contents are OK"
   ]
  },
  {
   "cell_type": "code",
   "execution_count": null,
   "metadata": {},
   "outputs": [],
   "source": [
    "print((matched_truth.pt)[:nprint])\n",
    "print((unmatched_truth.pt)[:nprint])\n",
    "print((truth_electrons.pt)[:nprint])"
   ]
  },
  {
   "cell_type": "code",
   "execution_count": null,
   "metadata": {},
   "outputs": [],
   "source": [
    "x = plotHist('test', vals=[[1,1,2,3,4],[5,5,5,6,7,8]])"
   ]
  },
  {
   "cell_type": "code",
   "execution_count": null,
   "metadata": {},
   "outputs": [],
   "source": []
  }
 ],
 "metadata": {
  "kernelspec": {
   "display_name": "Python 3",
   "language": "python",
   "name": "python3"
  },
  "language_info": {
   "codemirror_mode": {
    "name": "ipython",
    "version": 3
   },
   "file_extension": ".py",
   "mimetype": "text/x-python",
   "name": "python",
   "nbconvert_exporter": "python",
   "pygments_lexer": "ipython3",
   "version": "3.7.3"
  }
 },
 "nbformat": 4,
 "nbformat_minor": 2
}
