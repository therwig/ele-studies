{
 "cells": [
  {
   "cell_type": "code",
   "execution_count": 185,
   "metadata": {},
   "outputs": [],
   "source": [
    "import numpy as np\n",
    "import coffea\n",
    "from coffea.nanoaod import NanoEvents\n",
    "from coffea import processor, hist\n",
    "%matplotlib inline\n",
    "import matplotlib.pyplot as plt"
   ]
  },
  {
   "cell_type": "code",
   "execution_count": 25,
   "metadata": {},
   "outputs": [],
   "source": [
    "fname = \"/Users/herwig/Desktop/dominic/data/met100_skim.root\"\n",
    "events = NanoEvents.from_file(fname)"
   ]
  },
  {
   "cell_type": "markdown",
   "metadata": {},
   "source": [
    "Can directly get the objects and check their properties"
   ]
  },
  {
   "cell_type": "code",
   "execution_count": 184,
   "metadata": {},
   "outputs": [
    {
     "name": "stderr",
     "output_type": "stream",
     "text": [
      "/Users/herwig/miniconda3/envs/coffea/lib/python3.6/site-packages/uproot_methods/classes/TLorentzVector.py:189: RuntimeWarning: invalid value encountered in sqrt\n",
      "  return self._trymemo(\"mass\", lambda self: self.awkward.numpy.sqrt(self.mag2))\n"
     ]
    },
    {
     "data": {
      "text/plain": [
       "array([0.7674082 , 0.8898775 , 0.64670414, ..., 0.8615264 , 0.6542648 ,\n",
       "       0.46107867], dtype=float32)"
      ]
     },
     "execution_count": 184,
     "metadata": {},
     "output_type": "execute_result"
    }
   ],
   "source": [
    "# truth collections\n",
    "truth_n2 = events.GenPart[\n",
    "    (events.GenPart.pdgId == 1000023)\n",
    "    & events.GenPart.hasFlags(['isLastCopy'])\n",
    "]\n",
    "truth_n1 = events.GenPart[\n",
    "    (events.GenPart.pdgId == 1000022)\n",
    "    & (events.GenPart.parent.pdgId == 1000023)\n",
    "    & events.GenPart.hasFlags(['isLastCopy'])\n",
    "]\n",
    "truth_eles = events.GenPart[\n",
    "    (abs(events.GenPart.pdgId) == 11)\n",
    "    & events.GenPart.hasFlags(['isPrompt', 'isLastCopy'])\n",
    "]\n",
    "dM = truth_n2.mass-truth_n1.mass\n",
    "mask = truth_eles.counts==2\n",
    "ee_events = truth_eles[mask]\n",
    "dM = dM[mask]\n",
    "ee=ee_events[:,0]+ee_events[:,1]\n",
    "ee.mass [ (dM<2)[:,0] ]\n"
   ]
  },
  {
   "cell_type": "markdown",
   "metadata": {},
   "source": [
    "Do the full analysis in a processor"
   ]
  },
  {
   "cell_type": "code",
   "execution_count": 187,
   "metadata": {},
   "outputs": [],
   "source": [
    "class TruthAna(processor.ProcessorABC):\n",
    "    def __init__(self):\n",
    "        dataset_axis = hist.Cat(\"dataset\", \"N2-N1 mass difference\")\n",
    "        mass_axis = hist.Bin(\"mass\", r\"$m_{ee}$ [GeV]\", 40, 0, 4)\n",
    "        pt_axis = hist.Bin(\"pt\", r\"$p_{T,e}$ [GeV]\", 40, 0, 8)\n",
    "        lead_pt_axis = hist.Bin(\"pt\", r\"$p_{T,e1}$ [GeV]\", 40, 0, 8)\n",
    "        sub_pt_axis = hist.Bin(\"pt\", r\"$p_{T,e2}$ [GeV]\", 40, 0, 4)\n",
    "\n",
    "        self._accumulator = processor.dict_accumulator({\n",
    "            'mass': hist.Hist(\"Counts\", dataset_axis, mass_axis),\n",
    "            'pt_all': hist.Hist(\"Counts\", dataset_axis, pt_axis),\n",
    "            'pt_lead': hist.Hist(\"Counts\", dataset_axis, lead_pt_axis),\n",
    "            'pt_sub': hist.Hist(\"Counts\", dataset_axis, sub_pt_axis),\n",
    "            'cutflow': processor.defaultdict_accumulator(int),\n",
    "        })\n",
    "\n",
    "    @property\n",
    "    def accumulator(self):\n",
    "        return self._accumulator\n",
    "\n",
    "    # we will receive a NanoEvents instead of a coffea DataFrame\n",
    "    def process(self, events):\n",
    "        out = self.accumulator.identity()\n",
    "        \n",
    "        truth_n2 = events.GenPart[ (events.GenPart.pdgId == 1000023)\n",
    "            & events.GenPart.hasFlags(['isLastCopy'])]\n",
    "        truth_n1 = events.GenPart[(events.GenPart.pdgId == 1000022)\n",
    "            & (events.GenPart.parent.pdgId == 1000023)\n",
    "            & events.GenPart.hasFlags(['isLastCopy'])]\n",
    "        truth_eles = events.GenPart[(abs(events.GenPart.pdgId) == 11)\n",
    "            & events.GenPart.hasFlags(['isPrompt', 'isLastCopy'])]\n",
    "        # calc dM\n",
    "        dM = truth_n2.mass-truth_n1.mass\n",
    "        # get ee events\n",
    "        mask = (truth_eles.counts==2)\n",
    "        \n",
    "        dM = dM[mask]\n",
    "        ee_events = truth_eles[mask]\n",
    "        ee = ee_events[:,0]+ee_events[:,1]\n",
    "        lead = ee_events[ee_events.pt.argmax()]\n",
    "        sublead = ee_events[ee_events.pt.argmin()]\n",
    "        \n",
    "        isDM1 = (dM<2)[:,0]\n",
    "        subsets={'dM1': isDM1,'dM3': ~isDM1}\n",
    "        for tag, rule in subsets.items():\n",
    "            out[\"mass\"].fill(\n",
    "                dataset=tag, #events.metadata[\"dataset\"],\n",
    "                mass=ee[rule].mass.flatten(),\n",
    "            )\n",
    "            out[\"pt_lead\"].fill(dataset=tag, pt=lead[rule].pt.flatten())\n",
    "            out[\"pt_sub\"].fill(dataset=tag, pt=sublead[rule].pt.flatten())\n",
    "        return out\n",
    "\n",
    "    def postprocess(self, accumulator):\n",
    "        return accumulator"
   ]
  },
  {
   "cell_type": "code",
   "execution_count": 188,
   "metadata": {},
   "outputs": [
    {
     "data": {
      "application/vnd.jupyter.widget-view+json": {
       "model_id": "5a77f8e93f5d4fe1862d78a0fda5749c",
       "version_major": 2,
       "version_minor": 0
      },
      "text/plain": [
       "HBox(children=(FloatProgress(value=0.0, description='Processing', max=1.0, style=ProgressStyle(description_wid…"
      ]
     },
     "metadata": {},
     "output_type": "display_data"
    },
    {
     "name": "stdout",
     "output_type": "stream",
     "text": [
      "\n"
     ]
    },
    {
     "name": "stderr",
     "output_type": "stream",
     "text": [
      "/Users/herwig/miniconda3/envs/coffea/lib/python3.6/site-packages/uproot_methods/classes/TLorentzVector.py:189: RuntimeWarning: invalid value encountered in sqrt\n",
      "  return self._trymemo(\"mass\", lambda self: self.awkward.numpy.sqrt(self.mag2))\n"
     ]
    }
   ],
   "source": [
    "samples = { \"N2N1\": [fname] }\n",
    "\n",
    "result = processor.run_uproot_job(\n",
    "    samples,\n",
    "    \"Events\",\n",
    "    TruthAna(),\n",
    "    processor.iterative_executor,\n",
    "    {\"nano\": True},\n",
    ")"
   ]
  },
  {
   "cell_type": "code",
   "execution_count": 189,
   "metadata": {},
   "outputs": [
    {
     "data": {
      "text/plain": [
       "<matplotlib.axes._subplots.AxesSubplot at 0x15b0d9d30>"
      ]
     },
     "execution_count": 189,
     "metadata": {},
     "output_type": "execute_result"
    },
    {
     "data": {
      "image/png": "[encoded data removed]",
      "text/plain": [
       "<Figure size 432x288 with 1 Axes>"
      ]
     },
     "metadata": {
      "needs_background": "light"
     },
     "output_type": "display_data"
    },
    {
     "data": {
      "image/png": "[encoded data removed]",
      "text/plain": [
       "<Figure size 432x288 with 1 Axes>"
      ]
     },
     "metadata": {
      "needs_background": "light"
     },
     "output_type": "display_data"
    },
    {
     "data": {
      "image/png": "[encoded data removed]",
      "text/plain": [
       "<Figure size 432x288 with 1 Axes>"
      ]
     },
     "metadata": {
      "needs_background": "light"
     },
     "output_type": "display_data"
    }
   ],
   "source": [
    "plt.figure()\n",
    "hist.plot1d(result[\"mass\"])\n",
    "plt.figure()\n",
    "hist.plot1d(result[\"pt_lead\"])\n",
    "plt.figure()\n",
    "hist.plot1d(result[\"pt_sub\"])"
   ]
  },
  {
   "cell_type": "markdown",
   "metadata": {},
   "source": [
    "Now try things with the reco objects"
   ]
  },
  {
   "cell_type": "code",
   "execution_count": null,
   "metadata": {},
   "outputs": [],
   "source": [
    "events.ElectronBPark[events.ElectronBPark.genPartIdx >=0]"
   ]
  }
 ],
 "metadata": {
  "kernelspec": {
   "display_name": "Python 3",
   "language": "python",
   "name": "python3"
  },
  "language_info": {
   "codemirror_mode": {
    "name": "ipython",
    "version": 3
   },
   "file_extension": ".py",
   "mimetype": "text/x-python",
   "name": "python",
   "nbconvert_exporter": "python",
   "pygments_lexer": "ipython3",
   "version": "3.6.10"
  }
 },
 "nbformat": 4,
 "nbformat_minor": 4
}
