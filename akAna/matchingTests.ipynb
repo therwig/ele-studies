{
 "cells": [
  {
   "cell_type": "code",
   "execution_count": 1,
   "metadata": {},
   "outputs": [],
   "source": [
    "import uproot\n",
    "import numpy as np\n",
    "import numba\n",
    "import awkward1 as ak\n",
    "import os\n",
    "import optparse\n",
    "\n",
    "from data import getData\n",
    "from plot_utils import plotHist, plotCollection, plotEfficiency, combinePDFs\n",
    "from truth_utils import truth_link, dr_match"
   ]
  },
  {
   "cell_type": "code",
   "execution_count": 3,
   "metadata": {},
   "outputs": [],
   "source": [
    "cms_events = getData()"
   ]
  },
  {
   "cell_type": "code",
   "execution_count": 4,
   "metadata": {},
   "outputs": [],
   "source": [
    "truth_builder = truth_link(cms_events['genParticles'], ak.ArrayBuilder())\n",
    "truth_extension = truth_builder.snapshot()\n",
    "ele_mask = np.abs(cms_events['genParticles']['pdgId']) == 11\n",
    "first_mask = truth_extension['isFirst']\n",
    "last_mask = np.abs(cms_events['genParticles']['status']) == 1 # equivalent to last                                                                                                            \n",
    "z_mask = truth_extension['motherPdgId'] == 23\n",
    "n2_mask = truth_extension['motherPdgId'] == 1000023\n",
    "gen_ele_mask = ele_mask & (z_mask | n2_mask) & last_mask\n",
    "truth_electrons = cms_events['genParticles'][gen_ele_mask]"
   ]
  },
  {
   "cell_type": "code",
   "execution_count": 13,
   "metadata": {},
   "outputs": [],
   "source": [
    "#reco_electrons = cms_events['softElectrons']\n",
    "reco_electrons = cms_events['electrons']\n",
    "reco_cuts = {\n",
    "    \"all\": reco_electrons.pt > -1,\n",
    "#    \"looseMVA\": reco_electrons.mvaId > 0,\n",
    "#    \"tightMVA\": reco_electrons.mvaId > 5,\n",
    "    }\n"
   ]
  },
  {
   "cell_type": "code",
   "execution_count": 14,
   "metadata": {},
   "outputs": [],
   "source": [
    "cut_name=\"all\"\n",
    "reco_mask = reco_cuts[cut_name]\n",
    "signal_electrons = reco_electrons[reco_mask]\n",
    "\n",
    "match_builder = dr_match(truth_electrons, signal_electrons, ak.ArrayBuilder(), doReco=False)\n",
    "match_extension = match_builder.snapshot()\n",
    "matching_truth_mask = match_extension.truth_to_reco_index >= 0\n",
    "# matching_reco_mask = match_extension.truth_to_reco_index[matching_truth_mask]                                                                                                      \n",
    "\n",
    "match_builderR = dr_match(truth_electrons, signal_electrons, ak.ArrayBuilder(), doReco=True)\n",
    "match_extensionR = match_builderR.snapshot()\n",
    "matching_reco_mask = match_extensionR.reco_to_truth_index >= 0\n",
    "nonmatching_reco_mask = match_extensionR.reco_to_truth_index < 0\n",
    "\n",
    "matched_truth = truth_electrons[matching_truth_mask]\n",
    "unmatched_truth = truth_electrons[~matching_truth_mask]\n",
    "matched_reco = signal_electrons[matching_reco_mask]\n",
    "unmatched_reco = signal_electrons[~matching_reco_mask]\n",
    "# unmatched_reco = signal_electrons[nonmatching_reco_mask]      "
   ]
  },
  {
   "cell_type": "code",
   "execution_count": 29,
   "metadata": {},
   "outputs": [
    {
     "name": "stdout",
     "output_type": "stream",
     "text": [
      "[2, 0, 2, 0, 0, 2, 0, 2, 0, 2]\n",
      "[0, 0, 1, 0, 1, 1, 0, 1, 1, 1]\n",
      "[[0.4287109375, -3.265625], [], [-1.88671875, -1.625], [], [], [0.353515625, -0.7578125], [], [-1.8203125, -1.70703125], [], [-0.21044921875, -1.359375]]\n",
      "[[], [], [-1.887939453125], [], [-1.7236328125], [0.35333251953125], [], [-1.708984375], [-0.9852294921875], [-0.21038818359375]]\n",
      "[[-2.90625, -1.3671875], [], [-2.140625, 1.83203125], [], [], [-0.650390625, 0.654296875], [], [1.8515625, -0.3037109375], [], [-0.560546875, -0.11376953125]]\n",
      "[[], [], [-2.1416015625], [], [0.35821533203125], [-0.65087890625], [], [-0.30596923828125], [-2.6064453125], [-0.5615234375]]\n"
     ]
    }
   ],
   "source": [
    "nprint=10\n",
    "print(ak.num(truth_electrons)[:nprint])\n",
    "print(ak.num(reco_electrons)[:nprint])\n",
    "print(ak.to_list(truth_electrons.eta)[:nprint])\n",
    "print(ak.to_list(reco_electrons.eta)[:nprint])\n",
    "print(ak.to_list(truth_electrons.phi)[:nprint])\n",
    "print(ak.to_list(reco_electrons.phi)[:nprint])"
   ]
  },
  {
   "cell_type": "code",
   "execution_count": 30,
   "metadata": {},
   "outputs": [
    {
     "name": "stdout",
     "output_type": "stream",
     "text": [
      "[0, 0, 1, 0, 0, 1, 0, 1, 0, 1]\n",
      "[[], [], [4.96875], [], [], [10.09375], [], [6.984375], [], [9.46875]]\n"
     ]
    }
   ],
   "source": [
    "print(ak.num(matched_truth.pt)[:nprint])\n",
    "print(ak.to_list(matched_truth.pt)[:nprint])"
   ]
  },
  {
   "cell_type": "code",
   "execution_count": 31,
   "metadata": {},
   "outputs": [
    {
     "name": "stdout",
     "output_type": "stream",
     "text": [
      "[2, 0, 1, 0, 0, 1, 0, 1, 0, 1]\n",
      "[[2.8671875, 0.74609375], [], [2.265625], [], [], [1.453125], [], [3.4140625], [], [2.96875]]\n"
     ]
    }
   ],
   "source": [
    "print(ak.num(unmatched_truth.pt)[:nprint])\n",
    "print(ak.to_list(unmatched_truth.pt)[:nprint])"
   ]
  },
  {
   "cell_type": "code",
   "execution_count": 32,
   "metadata": {},
   "outputs": [
    {
     "name": "stdout",
     "output_type": "stream",
     "text": [
      "[0, 0, 1, 0, 0, 1, 0, 1, 0, 1]\n",
      "[[], [], [4.989854335784912], [], [], [10.219705581665039], [], [8.438362121582031], [], [9.532796859741211]]\n"
     ]
    }
   ],
   "source": [
    "print(ak.num(matched_reco.pt)[:nprint])\n",
    "print(ak.to_list(matched_reco.pt)[:nprint])"
   ]
  },
  {
   "cell_type": "code",
   "execution_count": 33,
   "metadata": {},
   "outputs": [
    {
     "name": "stdout",
     "output_type": "stream",
     "text": [
      "[0, 0, 0, 0, 1, 0, 0, 0, 1, 0]\n",
      "[[], [], [], [], [9.597420692443848], [], [], [], [14.239029884338379], []]\n"
     ]
    }
   ],
   "source": [
    "print(ak.num(unmatched_reco.pt)[:nprint])\n",
    "print(ak.to_list(unmatched_reco.pt)[:nprint])"
   ]
  },
  {
   "cell_type": "code",
   "execution_count": 34,
   "metadata": {},
   "outputs": [
    {
     "name": "stdout",
     "output_type": "stream",
     "text": [
      "[2, 0, 2, 0, 0, 2, 0, 2, 0, 2]\n",
      "[2, 0, 2, 0, 0, 2, 0, 2, 0, 2]\n"
     ]
    }
   ],
   "source": [
    "print((ak.num(matched_truth.pt)+ak.num(unmatched_truth.pt))[:nprint])\n",
    "print(ak.num(truth_electrons)[:nprint])"
   ]
  },
  {
   "cell_type": "code",
   "execution_count": 35,
   "metadata": {},
   "outputs": [
    {
     "name": "stdout",
     "output_type": "stream",
     "text": [
      "[0, 0, 1, 0, 1, 1, 0, 1, 1, 1]\n",
      "[0, 0, 1, 0, 1, 1, 0, 1, 1, 1]\n"
     ]
    }
   ],
   "source": [
    "print((ak.num(matched_reco.pt)+ak.num(unmatched_reco.pt))[:nprint])\n",
    "print(ak.num(reco_electrons)[:nprint])"
   ]
  },
  {
   "cell_type": "markdown",
   "metadata": {},
   "source": [
    "Now check that the contents are OK"
   ]
  },
  {
   "cell_type": "code",
   "execution_count": 40,
   "metadata": {},
   "outputs": [
    {
     "name": "stdout",
     "output_type": "stream",
     "text": [
      "[[], [], [4.97], [], [], [10.1], [], [6.98], [], [9.47]]\n",
      "[[2.87, 0.746], [], [2.27], [], [], [1.45], [], [3.41], [], [2.97]]\n",
      "[[2.87, 0.746], [], [4.97, 2.27], [], [], ... [], [3.41, 6.98], [], [9.47, 2.97]]\n"
     ]
    }
   ],
   "source": [
    "print((matched_truth.pt)[:nprint])\n",
    "print((unmatched_truth.pt)[:nprint])\n",
    "print((truth_electrons.pt)[:nprint])"
   ]
  },
  {
   "cell_type": "code",
   "execution_count": null,
   "metadata": {},
   "outputs": [],
   "source": []
  }
 ],
 "metadata": {
  "kernelspec": {
   "display_name": "Python 3",
   "language": "python",
   "name": "python3"
  },
  "language_info": {
   "codemirror_mode": {
    "name": "ipython",
    "version": 3
   },
   "file_extension": ".py",
   "mimetype": "text/x-python",
   "name": "python",
   "nbconvert_exporter": "python",
   "pygments_lexer": "ipython3",
   "version": "3.7.3"
  }
 },
 "nbformat": 4,
 "nbformat_minor": 2
}
