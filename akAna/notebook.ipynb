{
 "cells": [
  {
   "cell_type": "code",
   "execution_count": 1,
   "metadata": {},
   "outputs": [],
   "source": [
    "import uproot\n",
    "import numpy as np\n",
    "import numba\n",
    "import awkward1 as ak\n",
    "\n",
    "from utils import plot\n",
    "\n",
    "cms_dict = uproot.open(\"/Users/herwig/Desktop/dominic/data/nanoAOD.root\")[\"Events\"].arrays()\n",
    "cms_dict_ak1 = {name.decode(): ak.from_awkward0(array) for name, array in cms_dict.items()}\n",
    "\n",
    "cms_events = ak.zip({\n",
    "    \"genParticles\": ak.zip({\n",
    "        \"pt\":     cms_dict_ak1[\"GenPart_pt\"],\n",
    "        \"eta\":    cms_dict_ak1[\"GenPart_eta\"],\n",
    "        \"phi\":    cms_dict_ak1[\"GenPart_phi\"],\n",
    "        \"mass\":   cms_dict_ak1[\"GenPart_mass\"],\n",
    "        \"status\": cms_dict_ak1[\"GenPart_status\"],\n",
    "        \"mother\": cms_dict_ak1[\"GenPart_genPartIdxMother\"],\n",
    "        \"pdgId\":  cms_dict_ak1[\"GenPart_pdgId\"],\n",
    "    }),\n",
    "    \"electrons\": ak.zip({\n",
    "        \"dxy\"        : cms_dict_ak1[\"Electron_dxy\"],\n",
    "        \"dxyErr\"     : cms_dict_ak1[\"Electron_dxyErr\"],\n",
    "        \"dz\"         : cms_dict_ak1[\"Electron_dz\"],\n",
    "        \"dzErr\"      : cms_dict_ak1[\"Electron_dzErr\"],\n",
    "        \"eta\"        : cms_dict_ak1[\"Electron_eta\"],\n",
    "        \"ip3d\"       : cms_dict_ak1[\"Electron_ip3d\"],\n",
    "        \"mass\"       : cms_dict_ak1[\"Electron_mass\"],\n",
    "        \"phi\"        : cms_dict_ak1[\"Electron_phi\"],\n",
    "        \"pt\"         : cms_dict_ak1[\"Electron_pt\"],\n",
    "        \"charge\"     : cms_dict_ak1[\"Electron_charge\"],\n",
    "        \"pdgId\"      : cms_dict_ak1[\"Electron_pdgId\"],\n",
    "        \"genPartIdx\" : cms_dict_ak1[\"Electron_genPartIdx\"],\n",
    "        \"genPartFlav\": cms_dict_ak1[\"Electron_genPartFlav\"],\n",
    "    })\n",
    "}, depth_limit=1)\n",
    "\n"
   ]
  },
  {
   "cell_type": "code",
   "execution_count": 2,
   "metadata": {},
   "outputs": [],
   "source": [
    "@numba.jit\n",
    "def truth_link(gen_parts_per_event, builder):\n",
    "    # first fill a dictionary containing every electron like\n",
    "    # daughter_dict[mother idx] = daughter idx\n",
    "    # where each are electrons\n",
    "    # if an ele daughter doesn't exist, give -1 index\n",
    "    # assumes multiple electrons can't have the same mother\n",
    "    \n",
    "    for gen_parts in gen_parts_per_event:\n",
    "        builder.begin_list()\n",
    "        \n",
    "        ele_mothers={} # store mother indices\n",
    "        for i in range(len(gen_parts)):            \n",
    "            if np.abs(gen_parts[i].pdgId)==11:\n",
    "                ele_idx = i\n",
    "                mother_idx = gen_parts[ele_idx].mother\n",
    "                ele_mothers[ele_idx] = mother_idx if np.abs(gen_parts[mother_idx].pdgId)==11 else -1\n",
    "                while(mother_idx>=0 and np.abs(gen_parts[mother_idx].pdgId)==11):\n",
    "                    # step through mother tree, filling dict along the way\n",
    "                    ele_idx = mother_idx\n",
    "                    mother_idx = gen_parts[ele_idx].mother\n",
    "                    ele_mothers[ele_idx]=mother_idx\n",
    "\n",
    "        first_ancestor={} # store first ancestor with the same pdgId\n",
    "        for e_idx in ele_mothers:\n",
    "            idx = e_idx\n",
    "            while idx in ele_mothers and ele_mothers[idx]>=0:\n",
    "                idx = ele_mothers[idx]\n",
    "            # (idx mother should now be -1)\n",
    "            first_ancestor[e_idx] = idx\n",
    "        \n",
    "        for i in range(len(gen_parts)):            \n",
    "            isFirst=False\n",
    "            isLast=False\n",
    "            motherPdgId=0\n",
    "\n",
    "            # record mother IDs, including those from the first ele even in the case of subseq eles\n",
    "            if gen_parts[i].mother>=0:\n",
    "                if i in first_ancestor:\n",
    "                    motherPdgId = gen_parts[gen_parts[first_ancestor[i]].mother].pdgId\n",
    "                else:\n",
    "                    motherPdgId = gen_parts[gen_parts[i].mother].pdgId\n",
    "                \n",
    "            if np.abs(gen_parts[i].pdgId)==11:\n",
    "                if i in set(ele_mothers.keys()) and ele_mothers[i]<0:\n",
    "                    #has no mother\n",
    "                    isFirst=True\n",
    "                if not (i in set(ele_mothers.values())):\n",
    "                    #no ones mother\n",
    "                    isFirst=True\n",
    "            \n",
    "            builder.begin_record()\n",
    "            builder.field(\"isFirst\")\n",
    "            builder.append(isFirst)\n",
    "            builder.field(\"isLast\")\n",
    "            builder.append(isLast)\n",
    "            builder.field(\"motherPdgId\")\n",
    "            builder.append(motherPdgId)\n",
    "            builder.end_record()\n",
    "\n",
    "        builder.end_list()\n",
    "    return builder\n",
    "\n"
   ]
  },
  {
   "cell_type": "code",
   "execution_count": 3,
   "metadata": {},
   "outputs": [],
   "source": [
    "drawInputHistograms=False\n",
    "if drawInputHistograms:\n",
    "    for collection in cms_events.columns:\n",
    "        n_objs = ak.num(cms_events[collection]['pt'])\n",
    "        plot(n_objs,\"n_\"+collection, xtitle=collection+\" multiplicity\")\n",
    "        for attr in cms_events[collection].columns:\n",
    "            flat_values = ak.flatten(ak.to_list(cms_events[collection][attr]))\n",
    "            plot(flat_values,collection+'_'+attr, xtitle=collection+\" \"+attr)"
   ]
  },
  {
   "cell_type": "code",
   "execution_count": 4,
   "metadata": {},
   "outputs": [],
   "source": [
    "# DEFINE THE TRUTH ELECTRONS                                                                                                                                                                          \n",
    "# derived array with extra truth information                                                                                                                                                          \n",
    "truth_builder = truth_link(cms_events['genParticles'], ak.ArrayBuilder())\n",
    "truth_extension = truth_builder.snapshot()\n",
    "ele_mask = np.abs(cms_events['genParticles']['pdgId']) == 11\n",
    "first_mask = truth_extension['isFirst']\n",
    "last_mask = np.abs(cms_events['genParticles']['status']) == 1 # equivalent to last                                                                                                                    \n",
    "z_mask = truth_extension['motherPdgId'] == 23\n",
    "n2_mask = truth_extension['motherPdgId'] == 1000023\n",
    "gen_ele_mask = ele_mask & (z_mask | n2_mask) & last_mask\n",
    "truth_electrons = cms_events['genParticles'][gen_ele_mask]\n"
   ]
  },
  {
   "cell_type": "code",
   "execution_count": 5,
   "metadata": {},
   "outputs": [],
   "source": [
    "drawTruthElectrons=False\n",
    "if drawTruthElectrons:\n",
    "    plot(ak.num(genEles),\"n_genElectrons\", xtitle=\"gen electron multiplicity\")\n",
    "    for attr in genEles.columns:\n",
    "        plot(ak.flatten(ak.to_list(genEles[attr])),'genElectron_'+attr, xtitle=\"Gen Electron \"+attr)"
   ]
  },
  {
   "cell_type": "code",
   "execution_count": 6,
   "metadata": {},
   "outputs": [],
   "source": [
    "reco_electrons = cms_events['electrons']"
   ]
  },
  {
   "cell_type": "code",
   "execution_count": 16,
   "metadata": {},
   "outputs": [],
   "source": [
    "#pairs = ak.cartesian(truth_electrons, reco_electrons)\n",
    "pairs = ak.cartesian( [truth_electrons, reco_electrons] )"
   ]
  },
  {
   "cell_type": "code",
   "execution_count": 32,
   "metadata": {},
   "outputs": [
    {
     "name": "stdout",
     "output_type": "stream",
     "text": [
      "[2, 0, 2, 0, 0, 2, 0, 2, 0, 2, 2, 2, 2, 2, ... 0, 0, 0, 0, 0, 0, 0, 0, 0, 0, 0, 2, 2]\n",
      "[0, 0, 1, 0, 1, 1, 0, 1, 1, 1, 1, 2, 1, 1, ... 0, 0, 0, 0, 0, 0, 0, 0, 0, 0, 0, 1, 2]\n",
      "[0, 0, 2, 0, 0, 2, 0, 2, 0, 2, 2, 4, 2, 2, ... 0, 0, 0, 0, 0, 0, 0, 0, 0, 0, 0, 2, 4]\n"
     ]
    }
   ],
   "source": [
    "print(ak.num(truth_electrons))\n",
    "print(ak.num(reco_electrons))\n",
    "print(ak.num(pairs))"
   ]
  },
  {
   "cell_type": "code",
   "execution_count": 38,
   "metadata": {},
   "outputs": [],
   "source": [
    "t, r = ak.unzip(pairs)"
   ]
  },
  {
   "cell_type": "code",
   "execution_count": 46,
   "metadata": {},
   "outputs": [],
   "source": [
    "dR = np.sqrt((t.eta - r.eta)**2 + (t.phi - r.phi)**2)"
   ]
  },
  {
   "cell_type": "code",
   "execution_count": 49,
   "metadata": {},
   "outputs": [
    {
     "data": {
      "image/png": "[encoded data removed]",
      "text/plain": [
       "<Figure size 432x288 with 1 Axes>"
      ]
     },
     "metadata": {
      "needs_background": "light"
     },
     "output_type": "display_data"
    }
   ],
   "source": [
    "import matplotlib.pyplot as plt\n",
    "plt.hist(ak.flatten(dR), bins=100, range=(0,7));"
   ]
  },
  {
   "cell_type": "code",
   "execution_count": null,
   "metadata": {},
   "outputs": [],
   "source": []
  },
  {
   "cell_type": "code",
   "execution_count": null,
   "metadata": {},
   "outputs": [],
   "source": []
  },
  {
   "cell_type": "code",
   "execution_count": null,
   "metadata": {},
   "outputs": [],
   "source": []
  }
 ],
 "metadata": {
  "kernelspec": {
   "display_name": "Python 3",
   "language": "python",
   "name": "python3"
  },
  "language_info": {
   "codemirror_mode": {
    "name": "ipython",
    "version": 3
   },
   "file_extension": ".py",
   "mimetype": "text/x-python",
   "name": "python",
   "nbconvert_exporter": "python",
   "pygments_lexer": "ipython3",
   "version": "3.7.3"
  }
 },
 "nbformat": 4,
 "nbformat_minor": 2
}
