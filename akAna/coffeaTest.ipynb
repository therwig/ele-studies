{
 "cells": [
  {
   "cell_type": "code",
   "execution_count": 352,
   "metadata": {},
   "outputs": [],
   "source": [
    "import numpy as np\n",
    "import coffea\n",
    "import awkward as ak\n",
    "from coffea.nanoaod import NanoEvents\n",
    "from coffea import processor, hist\n",
    "%matplotlib inline\n",
    "import matplotlib.pyplot as plt\n",
    "import os"
   ]
  },
  {
   "cell_type": "code",
   "execution_count": 348,
   "metadata": {},
   "outputs": [],
   "source": [
    "fname = \"/Users/herwig/Desktop/dominic/data/met100_skim.root\"\n",
    "events = NanoEvents.from_file(fname)\n",
    "pDir=\"plots/\""
   ]
  },
  {
   "cell_type": "markdown",
   "metadata": {},
   "source": [
    "Can directly get the objects and check their properties"
   ]
  },
  {
   "cell_type": "code",
   "execution_count": 3,
   "metadata": {},
   "outputs": [
    {
     "name": "stderr",
     "output_type": "stream",
     "text": [
      "/Users/herwig/miniconda3/envs/coffea/lib/python3.6/site-packages/uproot_methods/classes/TLorentzVector.py:189: RuntimeWarning: invalid value encountered in sqrt\n",
      "  return self._trymemo(\"mass\", lambda self: self.awkward.numpy.sqrt(self.mag2))\n"
     ]
    },
    {
     "data": {
      "text/plain": [
       "array([0.7674082 , 0.8898775 , 0.64670414, ..., 0.8615264 , 0.6542648 ,\n",
       "       0.46107867], dtype=float32)"
      ]
     },
     "execution_count": 3,
     "metadata": {},
     "output_type": "execute_result"
    }
   ],
   "source": [
    "# truth collections\n",
    "truth_n2 = events.GenPart[\n",
    "    (events.GenPart.pdgId == 1000023)\n",
    "    & events.GenPart.hasFlags(['isLastCopy'])\n",
    "]\n",
    "truth_n1 = events.GenPart[\n",
    "    (events.GenPart.pdgId == 1000022)\n",
    "    & (events.GenPart.parent.pdgId == 1000023)\n",
    "    & events.GenPart.hasFlags(['isLastCopy'])\n",
    "]\n",
    "truth_ele_mask = (abs(events.GenPart.pdgId) == 11) & events.GenPart.hasFlags(['isPrompt', 'isLastCopy'])\n",
    "truth_eles = events.GenPart[truth_ele_mask]\n",
    "\n",
    "dM = truth_n2.mass-truth_n1.mass\n",
    "mask = truth_eles.counts==2\n",
    "ee_events = truth_eles[mask]\n",
    "dM = dM[mask]\n",
    "ee=ee_events[:,0]+ee_events[:,1]\n",
    "ee.mass [ (dM<2)[:,0] ]\n"
   ]
  },
  {
   "cell_type": "markdown",
   "metadata": {},
   "source": [
    "Do the full analysis in a processor"
   ]
  },
  {
   "cell_type": "code",
   "execution_count": 410,
   "metadata": {},
   "outputs": [],
   "source": [
    "class TruthAna(processor.ProcessorABC):\n",
    "    def __init__(self):\n",
    "        dataset_axis = hist.Cat(\"dataset\", \"N2-N1 mass difference\")\n",
    "        mass_axis = hist.Bin(\"mass\", r\"$m_{ee}$ [GeV]\", 40, 0, 4)\n",
    "        pt_axis = hist.Bin(\"pt\", r\"$p_{T,e}$ [GeV]\", 40, 0, 8)\n",
    "        pt_axis_sm = hist.Bin(\"pt\", r\"$p_{T,e}$ [GeV]\", 15, 0.5, 2)\n",
    "        lead_pt_axis = hist.Bin(\"pt\", r\"$p_{T,e1}$ [GeV]\", 40, 0, 8)\n",
    "        sub_pt_axis = hist.Bin(\"pt\", r\"$p_{T,e2}$ [GeV]\", 40, 0, 4)\n",
    "        ratio_axis = hist.Bin(\"ratio\", r\"$p_{T,reco}/p_{T,truth}$ [GeV]\", 40, 0, 2)\n",
    "        \n",
    "        self.selections = {\n",
    "            #\"prompt\" : lambda x: (np.abs(x.dz) < 0.2) & (x.sip3d < 3),\n",
    "            #\"prompt\" : lambda x: (np.abs(x.dz) < 0.1) & (np.abs(x.dxy) < 0.05) & (x.sip3d < 2.5) & (x.ip3d < 0.0175),\n",
    "            \"prompt\" : lambda x: (np.abs(x.dz) < 0.1) & (np.abs(x.dxy) < 0.05) & (x.sip3d < 2.5) & (x.ip3d < 0.05),\n",
    "            \"loose\" : lambda x: (np.abs(x.dz) < 0.1) & (np.abs(x.dxy) < 0.05) & (x.sip3d < 2.5) & (x.ip3d < 0.05) & (x.mvaId>1),\n",
    "            \"med\" : lambda x: (np.abs(x.dz) < 0.1) & (np.abs(x.dxy) < 0.05) & (x.sip3d < 2.5) & (x.ip3d < 0.05) & (x.mvaId>3),\n",
    "            \"tight\" : lambda x: (np.abs(x.dz) < 0.1) & (np.abs(x.dxy) < 0.05) & (x.sip3d < 2.5) & (x.ip3d < 0.05) & (x.mvaId>4),\n",
    "        }\n",
    "        self.selections[\"eff70\"]=None\n",
    "        self.selections[\"eff80\"]=None\n",
    "        self.selections[\"eff90\"]=None\n",
    "        \n",
    "        hists = {\n",
    "            # truth\n",
    "            'mass': hist.Hist(\"Counts\", dataset_axis, mass_axis),\n",
    "            'pt_lead': hist.Hist(\"Counts\", dataset_axis, lead_pt_axis),\n",
    "            'pt_sub': hist.Hist(\"Counts\", dataset_axis, sub_pt_axis),\n",
    "            'pt_rel': hist.Hist(\"Counts\", dataset_axis, lead_pt_axis, ratio_axis),\n",
    "\n",
    "            # Efficiencies: for reco analysis, binned in truth pt\n",
    "            'pt_all_truth': hist.Hist(\"Counts\", dataset_axis, pt_axis),\n",
    "            'pt_all_truth_matched': hist.Hist(\"Counts\", dataset_axis, pt_axis),\n",
    "            'pt_all_truth_sm': hist.Hist(\"Counts\", dataset_axis, pt_axis_sm),\n",
    "            'pt_all_truth_matched_sm': hist.Hist(\"Counts\", dataset_axis, pt_axis_sm),\n",
    "\n",
    "            # Fake rates: for reco analysis, binned in reco pt\n",
    "            'pt_all_reco_unmatched': hist.Hist(\"Counts\", dataset_axis, pt_axis),\n",
    "\n",
    "            # unused for now\n",
    "            'cutflow': processor.defaultdict_accumulator(int),\n",
    "        }\n",
    "        for sel in self.selections:\n",
    "            hs = {\n",
    "                #efficiencies\n",
    "                sel+'_pt_all_truth_selected': hist.Hist(\"Counts\", dataset_axis, pt_axis),\n",
    "                sel+'_pt_all_truth_selected_sm': hist.Hist(\"Counts\", dataset_axis, pt_axis_sm),\n",
    "                # Fake rates\n",
    "                sel+'_pt_all_selected_unmatched': hist.Hist(\"Counts\", dataset_axis, pt_axis),   \n",
    "            }\n",
    "            hists.update(hs)\n",
    "            \n",
    "        self._accumulator = processor.dict_accumulator(hists)\n",
    "\n",
    "    @property\n",
    "    def accumulator(self):\n",
    "        return self._accumulator\n",
    "\n",
    "    \n",
    "    # we will receive a NanoEvents instead of a coffea DataFrame\n",
    "    def process(self, events):\n",
    "        out = self.accumulator.identity()\n",
    "        \n",
    "        truth_n2 = events.GenPart[ (events.GenPart.pdgId == 1000023)\n",
    "            & events.GenPart.hasFlags(['isLastCopy'])]\n",
    "        truth_n1 = events.GenPart[(events.GenPart.pdgId == 1000022)\n",
    "            & (events.GenPart.parent.pdgId == 1000023)\n",
    "            & events.GenPart.hasFlags(['isLastCopy'])]\n",
    "        truth_ele_mask = (abs(events.GenPart.pdgId) == 11) & events.GenPart.hasFlags(['isPrompt', 'isLastCopy'])\n",
    "        all_truth_eles = events.GenPart[truth_ele_mask]\n",
    "        # calc dM\n",
    "        dM = truth_n2.mass-truth_n1.mass\n",
    "        # get ee events\n",
    "        event_mask = (all_truth_eles.counts==2)\n",
    "        dM = dM[event_mask]\n",
    "        truth_eles = all_truth_eles[event_mask]\n",
    "        ee = truth_eles[:,0]+truth_eles[:,1]\n",
    "        lead = truth_eles[truth_eles.pt.argmax()]\n",
    "        sublead = truth_eles[truth_eles.pt.argmin()]\n",
    "        \n",
    "\n",
    "        #match truth_eles\n",
    "        reco_sel = events.ElectronBPark.isLowPt #& (~events.ElectronBPark.isPFoverlap)\n",
    "        reco_eles = events.ElectronBPark[reco_sel]\n",
    "        reco_eles_prematched = reco_eles[reco_eles.genPartIdx >=0] #nb not final truth-match\n",
    "        reco_eles_unmatched = reco_eles[reco_eles.genPartIdx <0]\n",
    "        # apply event masks\n",
    "        reco_eles = events.ElectronBPark[event_mask]\n",
    "        reco_eles_prematched = reco_eles_prematched[event_mask]\n",
    "        reco_eles_unmatched = reco_eles_unmatched[event_mask]\n",
    "        # custom truth-match\n",
    "        tr_pairs = truth_eles.cross(reco_eles_prematched, nested=True)\n",
    "        t, r = tr_pairs.unzip()\n",
    "        drs = t.delta_r(r)\n",
    "        idx = drs.argmin()\n",
    "        r_match = tr_pairs.i1[idx[drs[idx] < 0.05]].flatten(1)\n",
    "        t_match = tr_pairs.i0[idx[drs[idx] < 0.05]].flatten(1)\n",
    "        #should be left with only one pairing given the right dR cut\n",
    "\n",
    "        # Constant-efficiency mvaId cuts\n",
    "        r_prompt = r_match[ self.selections[\"prompt\"](r_match) ]\n",
    "        mva_pt_bins = np.linspace(0.5,4,15) # 0.25 GeV\n",
    "        WPs = [\"0.70\",\"0.80\",\"0.90\"]\n",
    "        # determine the thresholds\n",
    "        r_flat = r_prompt.flatten()\n",
    "        binned = np.digitize(r_flat.pt, mva_pt_bins)\n",
    "        binned_scores=[]\n",
    "        for ib,_ in enumerate(mva_pt_bins):\n",
    "            sorted_scores = r_flat.mvaId[(binned == (ib+1))]\n",
    "            sorted_scores.sort()\n",
    "            binned_scores.append( sorted_scores )\n",
    "        self.thresholds={}\n",
    "        for wp in WPs:\n",
    "            wpval = 1. - float(wp) #since e.g. eff90 rejects 10%\n",
    "            cut_vals = [scores[ int(wpval*len(scores)) ] for scores in binned_scores]\n",
    "            self.thresholds[wp]=np.array([-9e99]+cut_vals) #no cut for (empty) zero bin\n",
    "\n",
    "\n",
    "        # record separately for each dM value        \n",
    "        isDM1 = (dM<2)[:,0]\n",
    "        subsets={'dM1': isDM1,'dM3': ~isDM1}\n",
    "\n",
    "        # fill all distributions\n",
    "        for tag, rule in subsets.items():\n",
    "            out['cutflow'][tag] += rule.sum()\n",
    "            \n",
    "            # Truth analysis\n",
    "            out[\"mass\"].fill( dataset=tag, mass=ee[rule].mass.flatten())\n",
    "            out[\"pt_lead\"].fill(dataset=tag, pt=lead[rule].pt.flatten())\n",
    "            out[\"pt_sub\"].fill(dataset=tag, pt=sublead[rule].pt.flatten())\n",
    "            \n",
    "            \n",
    "            # Reco efficiencies, binned in truth pt\n",
    "            out['pt_all_truth'].fill(dataset=tag, pt=truth_eles[rule].pt.flatten())\n",
    "            out['pt_all_truth_matched'].fill(dataset=tag, pt=t_match[rule].pt.flatten())\n",
    "            out['pt_all_truth_sm'].fill(dataset=tag, pt=truth_eles[rule].pt.flatten())\n",
    "            out['pt_all_truth_matched_sm'].fill(dataset=tag, pt=t_match[rule].pt.flatten())\n",
    "            # Fake rates: for reco analysis, binned in reco pt\n",
    "            out['pt_all_reco_unmatched'].fill(dataset=tag, pt=reco_eles_unmatched[rule].pt.flatten())\n",
    "            # pT resolution\n",
    "            rat = np.divide(r_match[rule].pt.flatten(),t_match[rule].pt.flatten())\n",
    "            out['pt_rel'].fill(dataset=tag, pt=t_match[rule].pt.flatten(), ratio=rat)\n",
    "\n",
    "            \n",
    "            # Loop over selections to study\n",
    "            for seltag, sel in self.selections.items():\n",
    "                if not sel: continue\n",
    "                id_mask = sel(r_match)\n",
    "                t_match_sel = t_match[id_mask]\n",
    "                #r_match_sel = r_match[id_mask] #unused\n",
    "                reco_unmatched_sel = reco_eles_unmatched[ sel(reco_eles_unmatched) ]\n",
    "                # fill\n",
    "                out[seltag+'_pt_all_truth_selected'].fill(dataset=tag, pt=t_match_sel[rule].pt.flatten())\n",
    "                out[seltag+'_pt_all_truth_selected_sm'].fill(dataset=tag, pt=t_match_sel[rule].pt.flatten())\n",
    "                out[seltag+'_pt_all_selected_unmatched'].fill(dataset=tag, pt=reco_unmatched_sel[rule].pt.flatten())\n",
    "                \n",
    "            for wp in self.thresholds:\n",
    "                threhsolds = self.thresholds[wp]\n",
    "                #full_mask = rule\n",
    "                #r_my_match = r_match[rule]\n",
    "                #r_my_match = r_my_match[ self.selections[\"prompt\"](r_my_match) ]\n",
    "                \n",
    "                # must apply this mask to truth array to fill\n",
    "                \n",
    "                #full_mask = self.selections[\"prompt\"](r_match[rule])\n",
    "                \n",
    "                # apply dM rule\n",
    "                r_prompt = r_match[rule]\n",
    "                t_prompt = t_match[rule]\n",
    "                # apply prompt rule\n",
    "                prompt_mask = self.selections[\"prompt\"](r_prompt)\n",
    "                r_prompt = r_prompt[prompt_mask]\n",
    "                t_prompt = t_prompt[prompt_mask]\n",
    "                # find id mask\n",
    "\n",
    "                r_flat = r_prompt.flatten()\n",
    "                t_flat = t_prompt.flatten()\n",
    "                #flat = r_prompt[rule].flatten()\n",
    "                binned = np.digitize(r_flat.pt, mva_pt_bins)\n",
    "                id_mask = (r_flat.mvaId > threhsolds[binned])\n",
    "                #flat = flat[id_mask]\n",
    "                #t_flat[id_mask]\n",
    "                #flat_t = t_match[rule].flatten() # [id_mask].flatten()\n",
    "                #flat_t = flat_t[id_mask]\n",
    "                \n",
    "                #flat.pt[id_mask] # fill histos with this\n",
    "                seltag = \"eff\"+wp.split('.')[-1]\n",
    "                out[seltag+'_pt_all_truth_selected'].fill(dataset=tag, pt=t_flat[id_mask].pt)\n",
    "                out[seltag+'_pt_all_truth_selected_sm'].fill(dataset=tag, pt=t_flat[id_mask].pt)\n",
    "                # unmatched\n",
    "                unmatched = reco_eles_unmatched[rule]\n",
    "                prompt_mask = self.selections[\"prompt\"](unmatched)\n",
    "                prompt = unmatched[prompt_mask]\n",
    "                flat = prompt.flatten()\n",
    "                \n",
    "                #reco_unmatched_sel = reco_eles_unmatched[ sel(reco_eles_unmatched) ]\n",
    "                #flat = reco_unmatched_sel[rule].flatten()\n",
    "                binned = np.digitize(flat.pt, mva_pt_bins)\n",
    "                flat = flat[(flat.mvaId > threhsolds[binned])]\n",
    "                out[seltag+'_pt_all_selected_unmatched'].fill(dataset=tag, pt=flat.pt)\n",
    "\n",
    "            \n",
    "        return out\n",
    "\n",
    "    def postprocess(self, accumulator):\n",
    "        return accumulator"
   ]
  },
  {
   "cell_type": "code",
   "execution_count": 411,
   "metadata": {},
   "outputs": [
    {
     "data": {
      "application/vnd.jupyter.widget-view+json": {
       "model_id": "a62c2596a9c3403f8e491d736efcc836",
       "version_major": 2,
       "version_minor": 0
      },
      "text/plain": [
       "HBox(children=(FloatProgress(value=0.0, description='Processing', max=1.0, style=ProgressStyle(description_wid…"
      ]
     },
     "metadata": {},
     "output_type": "display_data"
    },
    {
     "name": "stderr",
     "output_type": "stream",
     "text": [
      "/Users/herwig/miniconda3/envs/coffea/lib/python3.6/site-packages/uproot_methods/classes/TLorentzVector.py:189: RuntimeWarning: invalid value encountered in sqrt\n",
      "  return self._trymemo(\"mass\", lambda self: self.awkward.numpy.sqrt(self.mag2))\n"
     ]
    },
    {
     "name": "stdout",
     "output_type": "stream",
     "text": [
      "\n"
     ]
    }
   ],
   "source": [
    "samples = { \"N2N1\": [fname] }\n",
    "\n",
    "result = processor.run_uproot_job(\n",
    "    samples,\n",
    "    \"Events\",\n",
    "    TruthAna(),\n",
    "    processor.iterative_executor,\n",
    "    {\"nano\": True},\n",
    ")\n",
    "# postproc\n",
    "selections=['prompt','loose','med','tight'] #+['prompt1','prompt2','prompt3']\n",
    "selections+=['eff70','eff80','eff90']\n",
    "n1 = result['cutflow']['dM1']\n",
    "n3 = result['cutflow']['dM3']\n",
    "result[\"pt_all_reco_unmatched\"].scale({'dM1': 1./n1, 'dM3': 1./n3}, axis='dataset')\n",
    "for sel in selections:\n",
    "    result[sel+\"_pt_all_selected_unmatched\"].scale({'dM1': 1./n1, 'dM3': 1./n3}, axis='dataset')\n",
    "\n",
    "\n"
   ]
  },
  {
   "cell_type": "code",
   "execution_count": 402,
   "metadata": {},
   "outputs": [
    {
     "data": {
      "text/plain": [
       "defaultdict_accumulator(int, {'dM1': 7892, 'dM3': 6389})"
      ]
     },
     "execution_count": 402,
     "metadata": {},
     "output_type": "execute_result"
    }
   ],
   "source": [
    "result['cutflow']"
   ]
  },
  {
   "cell_type": "code",
   "execution_count": 377,
   "metadata": {},
   "outputs": [],
   "source": [
    "plt.figure()\n",
    "hist.plot1d(result[\"mass\"])\n",
    "plt.savefig(pDir+\"truth/mass.pdf\")\n",
    "plt.close()\n",
    "\n",
    "plt.figure()\n",
    "hist.plot1d(result[\"pt_lead\"],overflow='all')\n",
    "plt.savefig(pDir+\"truth/pt1.pdf\")\n",
    "plt.close()\n",
    "\n",
    "plt.figure()\n",
    "hist.plot1d(result[\"pt_sub\"],overflow='all')\n",
    "plt.savefig(pDir+\"truth/pt2.pdf\")\n",
    "plt.close()"
   ]
  },
  {
   "cell_type": "code",
   "execution_count": 378,
   "metadata": {
    "scrolled": true
   },
   "outputs": [
    {
     "data": {
      "text/plain": [
       "<Figure size 432x288 with 0 Axes>"
      ]
     },
     "metadata": {},
     "output_type": "display_data"
    },
    {
     "data": {
      "text/plain": [
       "<Figure size 432x288 with 0 Axes>"
      ]
     },
     "metadata": {},
     "output_type": "display_data"
    }
   ],
   "source": [
    "plt.figure()\n",
    "hist.plotratio(num=result[\"pt_all_truth_matched\"].integrate(\"dataset\"), \n",
    "               denom=result[\"pt_all_truth\"].integrate(\"dataset\"), error_opts={\"marker\": \"_\"})\n",
    "plt.ylabel(\"Reco efficiency\")\n",
    "plt.savefig(pDir+\"reco/eff.pdf\")\n",
    "plt.close()\n",
    "\n",
    "plt.figure()\n",
    "hist.plotratio(num=result[\"pt_all_truth_matched_sm\"].integrate(\"dataset\"), \n",
    "               denom=result[\"pt_all_truth_sm\"].integrate(\"dataset\"), error_opts={\"marker\": \"_\"})\n",
    "plt.ylabel(\"Reco efficiency\")\n",
    "plt.savefig(pDir+\"reco/eff_sm.pdf\")\n",
    "plt.close()\n",
    "\n",
    "plt.figure()\n",
    "hist.plot1d(result[\"pt_all_reco_unmatched\"],overflow='all')\n",
    "plt.savefig(pDir+\"reco/nfake.pdf\")\n",
    "plt.close()\n"
   ]
  },
  {
   "cell_type": "code",
   "execution_count": 370,
   "metadata": {},
   "outputs": [],
   "source": [
    "#hist.plot2d(result['pt_rel'].sum('dataset'),xaxis='pt')\n",
    "hist.plot1d(result['pt_rel'].sum('pt'),density=True)\n",
    "plt.savefig(pDir+\"reco/pt_relative.pdf\")\n",
    "plt.close()"
   ]
  },
  {
   "cell_type": "markdown",
   "metadata": {},
   "source": [
    "Now try things with the reco objects"
   ]
  },
  {
   "cell_type": "code",
   "execution_count": 412,
   "metadata": {},
   "outputs": [
    {
     "data": {
      "text/plain": [
       "<Figure size 432x288 with 0 Axes>"
      ]
     },
     "metadata": {},
     "output_type": "display_data"
    },
    {
     "data": {
      "text/plain": [
       "<Figure size 432x288 with 0 Axes>"
      ]
     },
     "metadata": {},
     "output_type": "display_data"
    },
    {
     "data": {
      "text/plain": [
       "<Figure size 432x288 with 0 Axes>"
      ]
     },
     "metadata": {},
     "output_type": "display_data"
    },
    {
     "data": {
      "text/plain": [
       "<Figure size 432x288 with 0 Axes>"
      ]
     },
     "metadata": {},
     "output_type": "display_data"
    },
    {
     "data": {
      "text/plain": [
       "<Figure size 432x288 with 0 Axes>"
      ]
     },
     "metadata": {},
     "output_type": "display_data"
    },
    {
     "data": {
      "text/plain": [
       "<Figure size 432x288 with 0 Axes>"
      ]
     },
     "metadata": {},
     "output_type": "display_data"
    },
    {
     "data": {
      "text/plain": [
       "<Figure size 432x288 with 0 Axes>"
      ]
     },
     "metadata": {},
     "output_type": "display_data"
    },
    {
     "data": {
      "text/plain": [
       "<Figure size 432x288 with 0 Axes>"
      ]
     },
     "metadata": {},
     "output_type": "display_data"
    },
    {
     "data": {
      "text/plain": [
       "<Figure size 432x288 with 0 Axes>"
      ]
     },
     "metadata": {},
     "output_type": "display_data"
    },
    {
     "data": {
      "text/plain": [
       "<Figure size 432x288 with 0 Axes>"
      ]
     },
     "metadata": {},
     "output_type": "display_data"
    },
    {
     "data": {
      "text/plain": [
       "<Figure size 432x288 with 0 Axes>"
      ]
     },
     "metadata": {},
     "output_type": "display_data"
    },
    {
     "data": {
      "text/plain": [
       "<Figure size 432x288 with 0 Axes>"
      ]
     },
     "metadata": {},
     "output_type": "display_data"
    },
    {
     "data": {
      "text/plain": [
       "<Figure size 432x288 with 0 Axes>"
      ]
     },
     "metadata": {},
     "output_type": "display_data"
    },
    {
     "data": {
      "text/plain": [
       "<Figure size 432x288 with 0 Axes>"
      ]
     },
     "metadata": {},
     "output_type": "display_data"
    }
   ],
   "source": [
    "#selections=['prompt','loose']\n",
    "\n",
    "for sel in selections:\n",
    "    myDir=pDir+\"reco/\"+sel\n",
    "    os.system(\"mkdir -p \"+myDir)\n",
    "\n",
    "    if True:\n",
    "        plt.figure()\n",
    "        #print(sel)\n",
    "        hist.plotratio(num=result[sel+\"_pt_all_truth_selected\"].integrate(\"dataset\"), \n",
    "                   denom=result[\"pt_all_truth_matched\"].integrate(\"dataset\"), error_opts={\"marker\": \"_\"})\n",
    "        plt.ylabel(sel+\" selection efficiency\")\n",
    "        ax = plt.gca()\n",
    "        ax.set_ylim(0.,1.2)\n",
    "        plt.savefig(myDir+\"/eff.pdf\")\n",
    "        plt.close()\n",
    "        \n",
    "        plt.figure()\n",
    "        hist.plotratio(num=result[sel+\"_pt_all_truth_selected_sm\"].integrate(\"dataset\"), \n",
    "                   denom=result[\"pt_all_truth_matched_sm\"].integrate(\"dataset\"), error_opts={\"marker\": \"_\"})\n",
    "        plt.ylabel(\"Reco efficiency\")\n",
    "        ax = plt.gca()\n",
    "        ax.set_ylim(0.,1.2)\n",
    "        plt.savefig(myDir+\"/eff_sm.pdf\")\n",
    "        plt.close()\n",
    "\n",
    "\n",
    "    plt.figure()\n",
    "    hist.plot1d(result[sel+\"_pt_all_truth_selected\"],overflow='all')\n",
    "    plt.ylabel(sel+\" selection\")\n",
    "    plt.savefig(myDir+\"/numerator.pdf\")\n",
    "    plt.close()\n",
    "\n",
    "\n",
    "    plt.figure()\n",
    "    hist.plot1d(result[sel+\"_pt_all_selected_unmatched\"],overflow='all')\n",
    "    plt.ylabel(sel+\" selection fakes\")\n",
    "    plt.savefig(myDir+\"/nfakes.pdf\")\n",
    "    plt.close()\n",
    "\n",
    "\n",
    "    #20k, 3k max\n",
    "\n"
   ]
  },
  {
   "cell_type": "code",
   "execution_count": 372,
   "metadata": {},
   "outputs": [],
   "source": [
    "truthMatched = (events.ElectronBPark.genPartIdx >=0)\n",
    "real_reco = events.ElectronBPark[truthMatched]\n",
    "fake_reco = events.ElectronBPark[~truthMatched]\n",
    "#real_reco.counts\n",
    "#real_reco.genPartIdx #.distincts()\n",
    "real_reco_matches = events.GenPart[ real_reco.genPartIdx ]\n",
    "isDM1 = (dM<2)[:,0]\n",
    "#events.GenPart[ real_reco ]\n",
    "#fake.counts\n",
    "real_reco_masked = real_reco[mask]\n",
    "#real_reco_masked[isDM1].pt\n",
    "#help(truth_eles)\n",
    "\n",
    "#how to check whether a genParticle matches a BPark ele?\n",
    "#truth_ele_mask\n",
    "#real_reco_matches\n",
    "#real_reco.genPartIdx.argcross( events.GenPart[truthMatched] )\n",
    "#truthMatched.argmatch(truthMatched)\n",
    "#events.GenPart\n",
    "#real_reco.genPartIdx.argcross( events.GenPart[truthMatched] )\n",
    "#real_reco.genPartIdx.\n",
    "#unique_genIdx = ak.fromiter([list(set(x)) for x in real_reco.genPartIdx.tolist()])\n",
    "#l = [list(set(ll)) for ll in l]\n",
    "#real_reco"
   ]
  },
  {
   "cell_type": "code",
   "execution_count": null,
   "metadata": {},
   "outputs": [],
   "source": []
  },
  {
   "cell_type": "code",
   "execution_count": 373,
   "metadata": {},
   "outputs": [
    {
     "name": "stdout",
     "output_type": "stream",
     "text": [
      "14281\n",
      "14281\n",
      "[1 0 5]\n",
      "[2 2 2]\n",
      "[[[<ElectronBPark 17>] []] [[] []] [[<ElectronBPark 439>] []]]\n",
      "[[[<GenPart 23>] []] [[] []] [[<GenPart 319>] []]]\n",
      "[[<ElectronBPark 17>] [] [<ElectronBPark 439>]]\n"
     ]
    }
   ],
   "source": [
    "truth_ele_mask = (abs(events.GenPart.pdgId) == 11) & events.GenPart.hasFlags(['isPrompt', 'isLastCopy'])\n",
    "all_truth_eles = events.GenPart[truth_ele_mask]\n",
    "# get ee events\n",
    "event_mask = (all_truth_eles.counts==2)\n",
    "truth_eles = all_truth_eles[event_mask]\n",
    "\n",
    "#match truth_eles\n",
    "reco_eles = events.ElectronBPark #[event_mask]\n",
    "# cut down on combinatorics by picking out the 'good ones' first\n",
    "reco_eles_prematched = reco_eles[events.ElectronBPark.genPartIdx >=0]\n",
    "reco_eles_prematched = reco_eles_prematched[event_mask]\n",
    "tr_pairs = truth_eles.cross(reco_eles_prematched, nested=True)\n",
    "t, r = tr_pairs.unzip()\n",
    "drs = t.delta_r(r)\n",
    "idx = drs.argmin()\n",
    "r_match = tr_pairs.i1[idx[drs[idx] < 0.05]]\n",
    "t_match = tr_pairs.i0[idx[drs[idx] < 0.05]]\n",
    "\n",
    "#print(reco_eles_prematched.size)\n",
    "#print(r_match.size)\n",
    "#print(t_match.size)\n",
    "print(t_match.flatten(1).size)\n",
    "print(t_match.size)\n",
    "n=3\n",
    "print(reco_eles_prematched[:n].counts)\n",
    "print(truth_eles[:n].counts)\n",
    "#print(reco_eles_prematched[:n])\n",
    "#print(truth_eles[:n])\n",
    "print(r_match[:n])\n",
    "print(t_match[:n])\n",
    "print(r_match.flatten(1)[:n])\n",
    "\n",
    "#print(tr_pairs[:n].summary)\n",
    "#idx\n",
    "\n",
    "#matched_t.flatten()\n",
    "#isDM1 = (dM<2)[:,0]\n",
    "#t_match[isDM1] #.pt.flatten()\n",
    "\n",
    "\n"
   ]
  },
  {
   "cell_type": "code",
   "execution_count": 192,
   "metadata": {},
   "outputs": [
    {
     "data": {
      "text/plain": [
       "<JaggedArray [[<ElectronBPark 1> <ElectronBPark 3> <ElectronBPark 5> ... <ElectronBPark 18> <ElectronBPark 22> <ElectronBPark 60>] [<ElectronBPark 64> <ElectronBPark 65> <ElectronBPark 66> ... <ElectronBPark 146> <ElectronBPark 152> <ElectronBPark 169>] [<ElectronBPark 172> <ElectronBPark 174> <ElectronBPark 175> ... <ElectronBPark 233> <ElectronBPark 238> <ElectronBPark 252>] ... [<ElectronBPark 2131170> <ElectronBPark 2131171> <ElectronBPark 2131172> ... <ElectronBPark 2131223> <ElectronBPark 2131224> <ElectronBPark 2131239>] [<ElectronBPark 2131260>] [<ElectronBPark 2131287> <ElectronBPark 2131289> <ElectronBPark 2131294> ... <ElectronBPark 2131313> <ElectronBPark 2131352> <ElectronBPark 2131357>]] at 0x00013e579518>"
      ]
     },
     "execution_count": 192,
     "metadata": {},
     "output_type": "execute_result"
    }
   ],
   "source": [
    "#genEleIndices = events.GenPart.pt.localindex[truth_ele_mask]\n",
    "f = lambda x: (np.abs(x.dz) < 0.2) & (x.sip3d < 3)\n",
    "id_mask = f(reco_eles)\n",
    "reco_eles[id_mask]\n",
    "\n",
    "#help(events.ElectronBPark) #.argmatch(events.genPart)\n",
    "#truthMatched"
   ]
  },
  {
   "cell_type": "code",
   "execution_count": null,
   "metadata": {},
   "outputs": [],
   "source": []
  }
 ],
 "metadata": {
  "kernelspec": {
   "display_name": "Python 3",
   "language": "python",
   "name": "python3"
  },
  "language_info": {
   "codemirror_mode": {
    "name": "ipython",
    "version": 3
   },
   "file_extension": ".py",
   "mimetype": "text/x-python",
   "name": "python",
   "nbconvert_exporter": "python",
   "pygments_lexer": "ipython3",
   "version": "3.6.10"
  }
 },
 "nbformat": 4,
 "nbformat_minor": 4
}
