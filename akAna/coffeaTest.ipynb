{
 "cells": [
  {
   "cell_type": "code",
   "execution_count": 1,
   "metadata": {},
   "outputs": [],
   "source": [
    "import numpy as np\n",
    "import coffea\n",
    "import awkward as ak\n",
    "from coffea.nanoaod import NanoEvents\n",
    "from coffea import processor, hist\n",
    "%matplotlib inline\n",
    "import matplotlib.pyplot as plt"
   ]
  },
  {
   "cell_type": "code",
   "execution_count": 2,
   "metadata": {},
   "outputs": [],
   "source": [
    "fname = \"/Users/herwig/Desktop/dominic/data/met100_skim.root\"\n",
    "events = NanoEvents.from_file(fname)"
   ]
  },
  {
   "cell_type": "markdown",
   "metadata": {},
   "source": [
    "Can directly get the objects and check their properties"
   ]
  },
  {
   "cell_type": "code",
   "execution_count": 3,
   "metadata": {},
   "outputs": [
    {
     "name": "stderr",
     "output_type": "stream",
     "text": [
      "/Users/herwig/miniconda3/envs/coffea/lib/python3.6/site-packages/uproot_methods/classes/TLorentzVector.py:189: RuntimeWarning: invalid value encountered in sqrt\n",
      "  return self._trymemo(\"mass\", lambda self: self.awkward.numpy.sqrt(self.mag2))\n"
     ]
    },
    {
     "data": {
      "text/plain": [
       "array([0.7674082 , 0.8898775 , 0.64670414, ..., 0.8615264 , 0.6542648 ,\n",
       "       0.46107867], dtype=float32)"
      ]
     },
     "execution_count": 3,
     "metadata": {},
     "output_type": "execute_result"
    }
   ],
   "source": [
    "# truth collections\n",
    "truth_n2 = events.GenPart[\n",
    "    (events.GenPart.pdgId == 1000023)\n",
    "    & events.GenPart.hasFlags(['isLastCopy'])\n",
    "]\n",
    "truth_n1 = events.GenPart[\n",
    "    (events.GenPart.pdgId == 1000022)\n",
    "    & (events.GenPart.parent.pdgId == 1000023)\n",
    "    & events.GenPart.hasFlags(['isLastCopy'])\n",
    "]\n",
    "truth_ele_mask = (abs(events.GenPart.pdgId) == 11) & events.GenPart.hasFlags(['isPrompt', 'isLastCopy'])\n",
    "truth_eles = events.GenPart[truth_ele_mask]\n",
    "\n",
    "dM = truth_n2.mass-truth_n1.mass\n",
    "mask = truth_eles.counts==2\n",
    "ee_events = truth_eles[mask]\n",
    "dM = dM[mask]\n",
    "ee=ee_events[:,0]+ee_events[:,1]\n",
    "ee.mass [ (dM<2)[:,0] ]\n"
   ]
  },
  {
   "cell_type": "markdown",
   "metadata": {},
   "source": [
    "Do the full analysis in a processor"
   ]
  },
  {
   "cell_type": "code",
   "execution_count": 160,
   "metadata": {},
   "outputs": [],
   "source": [
    "class TruthAna(processor.ProcessorABC):\n",
    "    def __init__(self):\n",
    "        dataset_axis = hist.Cat(\"dataset\", \"N2-N1 mass difference\")\n",
    "        mass_axis = hist.Bin(\"mass\", r\"$m_{ee}$ [GeV]\", 40, 0, 4)\n",
    "        pt_axis = hist.Bin(\"pt\", r\"$p_{T,e}$ [GeV]\", 40, 0, 8)\n",
    "        lead_pt_axis = hist.Bin(\"pt\", r\"$p_{T,e1}$ [GeV]\", 40, 0, 8)\n",
    "        sub_pt_axis = hist.Bin(\"pt\", r\"$p_{T,e2}$ [GeV]\", 40, 0, 4)\n",
    "\n",
    "        self._accumulator = processor.dict_accumulator({\n",
    "            'mass': hist.Hist(\"Counts\", dataset_axis, mass_axis),\n",
    "            'pt_lead': hist.Hist(\"Counts\", dataset_axis, lead_pt_axis),\n",
    "            'pt_sub': hist.Hist(\"Counts\", dataset_axis, sub_pt_axis),\n",
    "\n",
    "            # Efficiencies: for reco analysis, binned in truth pt\n",
    "            'pt_all_truth': hist.Hist(\"Counts\", dataset_axis, pt_axis),\n",
    "            'pt_all_truth_matched': hist.Hist(\"Counts\", dataset_axis, pt_axis),\n",
    "            # Fake rates: for reco analysis, binned in reco pt\n",
    "            'pt_all_reco_unmatched': hist.Hist(\"Counts\", dataset_axis, pt_axis),\n",
    "\n",
    "            # unused for now\n",
    "            'cutflow': processor.defaultdict_accumulator(int),\n",
    "        })\n",
    "\n",
    "    @property\n",
    "    def accumulator(self):\n",
    "        return self._accumulator\n",
    "\n",
    "    # we will receive a NanoEvents instead of a coffea DataFrame\n",
    "    def process(self, events):\n",
    "        out = self.accumulator.identity()\n",
    "        \n",
    "        truth_n2 = events.GenPart[ (events.GenPart.pdgId == 1000023)\n",
    "            & events.GenPart.hasFlags(['isLastCopy'])]\n",
    "        truth_n1 = events.GenPart[(events.GenPart.pdgId == 1000022)\n",
    "            & (events.GenPart.parent.pdgId == 1000023)\n",
    "            & events.GenPart.hasFlags(['isLastCopy'])]\n",
    "        truth_ele_mask = (abs(events.GenPart.pdgId) == 11) & events.GenPart.hasFlags(['isPrompt', 'isLastCopy'])\n",
    "        all_truth_eles = events.GenPart[truth_ele_mask]\n",
    "        # calc dM\n",
    "        dM = truth_n2.mass-truth_n1.mass\n",
    "        # get ee events\n",
    "        event_mask = (all_truth_eles.counts==2)\n",
    "        dM = dM[event_mask]\n",
    "        truth_eles = all_truth_eles[event_mask]\n",
    "        ee = truth_eles[:,0]+truth_eles[:,1]\n",
    "        lead = truth_eles[truth_eles.pt.argmax()]\n",
    "        sublead = truth_eles[truth_eles.pt.argmin()]\n",
    "        \n",
    "\n",
    "        #match truth_eles\n",
    "        reco_eles = events.ElectronBPark[event_mask]\n",
    "        # cut down on combinatorics by picking out the 'good ones' first\n",
    "        reco_eles_prematched = events.ElectronBPark[events.ElectronBPark.genPartIdx >=0]\n",
    "        reco_eles_prematched = reco_eles_prematched[event_mask]\n",
    "        tr_pairs = truth_eles.cross(reco_eles_prematched, nested=True)\n",
    "        t, r = tr_pairs.unzip()\n",
    "        drs = t.delta_r(r)\n",
    "        #t_match = t[drs.min() < 0.1]\n",
    "        #r_match = r[drs.min() < 0.1]\n",
    "        idx = drs.argmin()\n",
    "        r_match = tr_pairs.i1[idx[drs[idx] < 0.05]].flatten(1)\n",
    "        t_match = tr_pairs.i0[idx[drs[idx] < 0.05]].flatten(1)\n",
    "        #should be left with only one pairing given the right dR cut\n",
    "\n",
    "        # unmatched electrons for fake rate\n",
    "        reco_eles_unmatched = events.ElectronBPark[events.ElectronBPark.genPartIdx <0]\n",
    "        reco_eles_unmatched = reco_eles_unmatched[event_mask]\n",
    "\n",
    "        ## get the reco electrons\n",
    "        #truthMatched = (events.ElectronBPark.genPartIdx >=0)\n",
    "        #reco_matched = events.ElectronBPark[truthMatched]\n",
    "        #reco_unmatched = events.ElectronBPark[~truthMatched]\n",
    "        #truth_matched = events.GenPart[ reco_matched.genPartIdx ]\n",
    "        ## some matching disagreement... \n",
    "        #match_genIdx_unique = ak.fromiter([list(set(x)) for x in reco_matched.genPartIdx.tolist()])\n",
    "\n",
    "        ## masking\n",
    "        #reco_matched = reco_matched[event_mask]\n",
    "        #reco_unmatched = reco_unmatched[event_mask]\n",
    "        #truth_matched = truth_matched[event_mask]\n",
    "        \n",
    "        \n",
    "        isDM1 = (dM<2)[:,0]\n",
    "        subsets={'dM1': isDM1,'dM3': ~isDM1}\n",
    "        for tag, rule in subsets.items():\n",
    "            out[\"mass\"].fill(\n",
    "                dataset=tag, #events.metadata[\"dataset\"],\n",
    "                mass=ee[rule].mass.flatten(),\n",
    "            )\n",
    "            out[\"pt_lead\"].fill(dataset=tag, pt=lead[rule].pt.flatten())\n",
    "            out[\"pt_sub\"].fill(dataset=tag, pt=sublead[rule].pt.flatten())\n",
    "            \n",
    "            # Efficiencies: for reco analysis, binned in truth pt\n",
    "            out['pt_all_truth'].fill(dataset=tag, pt=truth_eles[rule].pt.flatten())\n",
    "            out['pt_all_truth_matched'].fill(dataset=tag, pt=t_match[rule].pt.flatten())\n",
    "            # pt resolution\n",
    "            \n",
    "            # Fake rates: for reco analysis, binned in reco pt\n",
    "            out['pt_all_reco_unmatched'].fill(dataset=tag, pt=reco_eles_unmatched[rule].pt.flatten())\n",
    "            out['cutflow'][tag] += rule.sum()\n",
    "            \n",
    "        return out\n",
    "\n",
    "    def postprocess(self, accumulator):\n",
    "        return accumulator"
   ]
  },
  {
   "cell_type": "code",
   "execution_count": 165,
   "metadata": {},
   "outputs": [
    {
     "data": {
      "application/vnd.jupyter.widget-view+json": {
       "model_id": "5168637234c74b1cabdd22a5fc4d853f",
       "version_major": 2,
       "version_minor": 0
      },
      "text/plain": [
       "HBox(children=(FloatProgress(value=0.0, description='Processing', max=1.0, style=ProgressStyle(description_wid…"
      ]
     },
     "metadata": {},
     "output_type": "display_data"
    },
    {
     "name": "stderr",
     "output_type": "stream",
     "text": [
      "/Users/herwig/miniconda3/envs/coffea/lib/python3.6/site-packages/uproot_methods/classes/TLorentzVector.py:189: RuntimeWarning: invalid value encountered in sqrt\n",
      "  return self._trymemo(\"mass\", lambda self: self.awkward.numpy.sqrt(self.mag2))\n"
     ]
    },
    {
     "name": "stdout",
     "output_type": "stream",
     "text": [
      "\n"
     ]
    }
   ],
   "source": [
    "samples = { \"N2N1\": [fname] }\n",
    "\n",
    "result = processor.run_uproot_job(\n",
    "    samples,\n",
    "    \"Events\",\n",
    "    TruthAna(),\n",
    "    processor.iterative_executor,\n",
    "    {\"nano\": True},\n",
    ")\n",
    "# postproc\n",
    "n1 = result['cutflow']['dM1']\n",
    "n3 = result['cutflow']['dM3']\n",
    "result[\"pt_all_reco_unmatched\"].scale({'dM1': 1./n1, 'dM3': 1./n3}, axis='dataset')\n",
    "\n"
   ]
  },
  {
   "cell_type": "code",
   "execution_count": 166,
   "metadata": {},
   "outputs": [
    {
     "data": {
      "text/plain": [
       "defaultdict_accumulator(int, {'dM1': 7892, 'dM3': 6389})"
      ]
     },
     "execution_count": 166,
     "metadata": {},
     "output_type": "execute_result"
    }
   ],
   "source": [
    "result['cutflow']"
   ]
  },
  {
   "cell_type": "code",
   "execution_count": 167,
   "metadata": {},
   "outputs": [
    {
     "data": {
      "text/plain": [
       "<matplotlib.axes._subplots.AxesSubplot at 0x13ab7ff98>"
      ]
     },
     "execution_count": 167,
     "metadata": {},
     "output_type": "execute_result"
    },
    {
     "data": {
      "image/png": "[encoded data removed]",
      "text/plain": [
       "<Figure size 432x288 with 1 Axes>"
      ]
     },
     "metadata": {
      "needs_background": "light"
     },
     "output_type": "display_data"
    },
    {
     "data": {
      "image/png": "[encoded data removed]",
      "text/plain": [
       "<Figure size 432x288 with 1 Axes>"
      ]
     },
     "metadata": {
      "needs_background": "light"
     },
     "output_type": "display_data"
    },
    {
     "data": {
      "image/png": "[encoded data removed]",
      "text/plain": [
       "<Figure size 432x288 with 1 Axes>"
      ]
     },
     "metadata": {
      "needs_background": "light"
     },
     "output_type": "display_data"
    }
   ],
   "source": [
    "plt.figure()\n",
    "hist.plot1d(result[\"mass\"])\n",
    "plt.figure()\n",
    "hist.plot1d(result[\"pt_lead\"],overflow='all')\n",
    "plt.figure()\n",
    "hist.plot1d(result[\"pt_sub\"],overflow='all')"
   ]
  },
  {
   "cell_type": "code",
   "execution_count": 173,
   "metadata": {
    "scrolled": true
   },
   "outputs": [
    {
     "data": {
      "text/plain": [
       "<matplotlib.axes._subplots.AxesSubplot at 0x1337bb668>"
      ]
     },
     "execution_count": 173,
     "metadata": {},
     "output_type": "execute_result"
    },
    {
     "data": {
      "text/plain": [
       "<Figure size 432x288 with 0 Axes>"
      ]
     },
     "metadata": {},
     "output_type": "display_data"
    },
    {
     "data": {
      "image/png": "[encoded data removed]",
      "text/plain": [
       "<Figure size 432x288 with 1 Axes>"
      ]
     },
     "metadata": {
      "needs_background": "light"
     },
     "output_type": "display_data"
    },
    {
     "data": {
      "image/png": "[encoded data removed]",
      "text/plain": [
       "<Figure size 432x288 with 1 Axes>"
      ]
     },
     "metadata": {
      "needs_background": "light"
     },
     "output_type": "display_data"
    }
   ],
   "source": [
    "plt.figure()\n",
    "hist.plotratio(num=result[\"pt_all_truth_matched\"].integrate(\"dataset\"), \n",
    "               denom=result[\"pt_all_truth\"].integrate(\"dataset\")) #, error_opts={\"marker\": \"x\"})\n",
    "plt.ylabel(\"Reco efficiency\")\n",
    "\n",
    "plt.figure()\n",
    "hist.plot1d(result[\"pt_all_reco_unmatched\"],overflow='all')\n"
   ]
  },
  {
   "cell_type": "markdown",
   "metadata": {},
   "source": [
    "Now try things with the reco objects"
   ]
  },
  {
   "cell_type": "code",
   "execution_count": null,
   "metadata": {},
   "outputs": [],
   "source": []
  },
  {
   "cell_type": "code",
   "execution_count": 62,
   "metadata": {},
   "outputs": [],
   "source": [
    "truthMatched = (events.ElectronBPark.genPartIdx >=0)\n",
    "real_reco = events.ElectronBPark[truthMatched]\n",
    "fake_reco = events.ElectronBPark[~truthMatched]\n",
    "#real_reco.counts\n",
    "#real_reco.genPartIdx #.distincts()\n",
    "real_reco_matches = events.GenPart[ real_reco.genPartIdx ]\n",
    "isDM1 = (dM<2)[:,0]\n",
    "#events.GenPart[ real_reco ]\n",
    "#fake.counts\n",
    "real_reco_masked = real_reco[mask]\n",
    "#real_reco_masked[isDM1].pt\n",
    "#help(truth_eles)\n",
    "\n",
    "#how to check whether a genParticle matches a BPark ele?\n",
    "#truth_ele_mask\n",
    "#real_reco_matches\n",
    "#real_reco.genPartIdx.argcross( events.GenPart[truthMatched] )\n",
    "#truthMatched.argmatch(truthMatched)\n",
    "#events.GenPart\n",
    "#real_reco.genPartIdx.argcross( events.GenPart[truthMatched] )\n",
    "#real_reco.genPartIdx.\n",
    "#unique_genIdx = ak.fromiter([list(set(x)) for x in real_reco.genPartIdx.tolist()])\n",
    "#l = [list(set(ll)) for ll in l]\n",
    "#real_reco"
   ]
  },
  {
   "cell_type": "code",
   "execution_count": 61,
   "metadata": {},
   "outputs": [
    {
     "ename": "ValueError",
     "evalue": "both JaggedArrays must have the same length",
     "output_type": "error",
     "traceback": [
      "\u001b[0;31m---------------------------------------------------------------------------\u001b[0m",
      "\u001b[0;31mValueError\u001b[0m                                Traceback (most recent call last)",
      "\u001b[0;32m<ipython-input-61-c76545237caf>\u001b[0m in \u001b[0;36m<module>\u001b[0;34m\u001b[0m\n\u001b[1;32m      2\u001b[0m \u001b[0mreco_eles_prematched\u001b[0m \u001b[0;34m=\u001b[0m \u001b[0mevents\u001b[0m\u001b[0;34m.\u001b[0m\u001b[0mElectronBPark\u001b[0m\u001b[0;34m[\u001b[0m\u001b[0mevents\u001b[0m\u001b[0;34m.\u001b[0m\u001b[0mElectronBPark\u001b[0m\u001b[0;34m.\u001b[0m\u001b[0mgenPartIdx\u001b[0m \u001b[0;34m>=\u001b[0m\u001b[0;36m0\u001b[0m\u001b[0;34m]\u001b[0m\u001b[0;34m\u001b[0m\u001b[0;34m\u001b[0m\u001b[0m\n\u001b[1;32m      3\u001b[0m \u001b[0;31m#tr_pairs = truth_eles.argcross(reco_eles_prematched, nested=True)\u001b[0m\u001b[0;34m\u001b[0m\u001b[0;34m\u001b[0m\u001b[0;34m\u001b[0m\u001b[0m\n\u001b[0;32m----> 4\u001b[0;31m \u001b[0mtr_pairs\u001b[0m \u001b[0;34m=\u001b[0m \u001b[0mtruth_eles\u001b[0m\u001b[0;34m.\u001b[0m\u001b[0mcross\u001b[0m\u001b[0;34m(\u001b[0m\u001b[0mreco_eles_prematched\u001b[0m\u001b[0;34m,\u001b[0m \u001b[0mnested\u001b[0m\u001b[0;34m=\u001b[0m\u001b[0;32mTrue\u001b[0m\u001b[0;34m)\u001b[0m\u001b[0;34m\u001b[0m\u001b[0;34m\u001b[0m\u001b[0m\n\u001b[0m\u001b[1;32m      5\u001b[0m \u001b[0;31m#tr_pairs.reco_eles_prematched\u001b[0m\u001b[0;34m\u001b[0m\u001b[0;34m\u001b[0m\u001b[0;34m\u001b[0m\u001b[0m\n\u001b[1;32m      6\u001b[0m \u001b[0mt\u001b[0m\u001b[0;34m,\u001b[0m \u001b[0mr\u001b[0m \u001b[0;34m=\u001b[0m \u001b[0mtr_pairs\u001b[0m\u001b[0;34m.\u001b[0m\u001b[0munzip\u001b[0m\u001b[0;34m(\u001b[0m\u001b[0;34m)\u001b[0m\u001b[0;34m\u001b[0m\u001b[0;34m\u001b[0m\u001b[0m\n",
      "\u001b[0;32m~/miniconda3/envs/coffea/lib/python3.6/site-packages/awkward/array/jagged.py\u001b[0m in \u001b[0;36mcross\u001b[0;34m(self, other, nested)\u001b[0m\n\u001b[1;32m   1345\u001b[0m             \u001b[0mthyself\u001b[0m \u001b[0;34m=\u001b[0m \u001b[0mself\u001b[0m\u001b[0;34m\u001b[0m\u001b[0;34m\u001b[0m\u001b[0m\n\u001b[1;32m   1346\u001b[0m \u001b[0;34m\u001b[0m\u001b[0m\n\u001b[0;32m-> 1347\u001b[0;31m         \u001b[0margcross\u001b[0m \u001b[0;34m=\u001b[0m \u001b[0mthyself\u001b[0m\u001b[0;34m.\u001b[0m\u001b[0m_argcross\u001b[0m\u001b[0;34m(\u001b[0m\u001b[0mother\u001b[0m\u001b[0;34m)\u001b[0m\u001b[0;34m\u001b[0m\u001b[0;34m\u001b[0m\u001b[0m\n\u001b[0m\u001b[1;32m   1348\u001b[0m         \u001b[0mleft\u001b[0m\u001b[0;34m,\u001b[0m \u001b[0mright\u001b[0m \u001b[0;34m=\u001b[0m \u001b[0margcross\u001b[0m\u001b[0;34m.\u001b[0m\u001b[0m_content\u001b[0m\u001b[0;34m.\u001b[0m\u001b[0m_contents\u001b[0m\u001b[0;34m.\u001b[0m\u001b[0mvalues\u001b[0m\u001b[0;34m(\u001b[0m\u001b[0;34m)\u001b[0m\u001b[0;34m\u001b[0m\u001b[0;34m\u001b[0m\u001b[0m\n\u001b[1;32m   1349\u001b[0m \u001b[0;34m\u001b[0m\u001b[0m\n",
      "\u001b[0;32m~/miniconda3/envs/coffea/lib/python3.6/site-packages/awkward/array/jagged.py\u001b[0m in \u001b[0;36m_argcross\u001b[0;34m(self, other)\u001b[0m\n\u001b[1;32m   1307\u001b[0m \u001b[0;34m\u001b[0m\u001b[0m\n\u001b[1;32m   1308\u001b[0m         \u001b[0;32mif\u001b[0m \u001b[0mlen\u001b[0m\u001b[0;34m(\u001b[0m\u001b[0mself\u001b[0m\u001b[0;34m)\u001b[0m \u001b[0;34m!=\u001b[0m \u001b[0mlen\u001b[0m\u001b[0;34m(\u001b[0m\u001b[0mother\u001b[0m\u001b[0;34m)\u001b[0m\u001b[0;34m:\u001b[0m\u001b[0;34m\u001b[0m\u001b[0;34m\u001b[0m\u001b[0m\n\u001b[0;32m-> 1309\u001b[0;31m             \u001b[0;32mraise\u001b[0m \u001b[0mValueError\u001b[0m\u001b[0;34m(\u001b[0m\u001b[0;34m\"both JaggedArrays must have the same length\"\u001b[0m\u001b[0;34m)\u001b[0m\u001b[0;34m\u001b[0m\u001b[0;34m\u001b[0m\u001b[0m\n\u001b[0m\u001b[1;32m   1310\u001b[0m \u001b[0;34m\u001b[0m\u001b[0m\n\u001b[1;32m   1311\u001b[0m         \u001b[0moffsets\u001b[0m \u001b[0;34m=\u001b[0m \u001b[0mself\u001b[0m\u001b[0;34m.\u001b[0m\u001b[0mcounts2offsets\u001b[0m\u001b[0;34m(\u001b[0m\u001b[0mself\u001b[0m\u001b[0;34m.\u001b[0m\u001b[0mcounts\u001b[0m \u001b[0;34m*\u001b[0m \u001b[0mother\u001b[0m\u001b[0;34m.\u001b[0m\u001b[0mcounts\u001b[0m\u001b[0;34m)\u001b[0m\u001b[0;34m\u001b[0m\u001b[0;34m\u001b[0m\u001b[0m\n",
      "\u001b[0;31mValueError\u001b[0m: both JaggedArrays must have the same length"
     ]
    }
   ],
   "source": [
    "#help(events.GenPart)\n",
    "reco_eles_prematched = events.ElectronBPark[events.ElectronBPark.genPartIdx >=0]\n",
    "#tr_pairs = truth_eles.argcross(reco_eles_prematched, nested=True)\n",
    "tr_pairs = truth_eles.cross(reco_eles_prematched, nested=True)\n",
    "#tr_pairs.reco_eles_prematched\n",
    "t, r = tr_pairs.unzip()\n",
    "drs = t.delta_r(r)\n",
    "truth_eles.eta\n",
    "reco_eles_prematched.eta\n",
    "t_match = t[drs.min() < 0.1]\n",
    "t_match\n",
    "#truth_eles.localindex\n",
    "#t\n"
   ]
  },
  {
   "cell_type": "code",
   "execution_count": 132,
   "metadata": {},
   "outputs": [
    {
     "name": "stdout",
     "output_type": "stream",
     "text": [
      "14281\n",
      "14281\n",
      "[1 0 5]\n",
      "[2 2 2]\n",
      "[[[<ElectronBPark 17>] []] [[] []] [[<ElectronBPark 439>] []]]\n",
      "[[[<GenPart 23>] []] [[] []] [[<GenPart 319>] []]]\n",
      "[[<ElectronBPark 17>] [] [<ElectronBPark 439>]]\n"
     ]
    }
   ],
   "source": [
    "truth_ele_mask = (abs(events.GenPart.pdgId) == 11) & events.GenPart.hasFlags(['isPrompt', 'isLastCopy'])\n",
    "all_truth_eles = events.GenPart[truth_ele_mask]\n",
    "# get ee events\n",
    "event_mask = (all_truth_eles.counts==2)\n",
    "truth_eles = all_truth_eles[event_mask]\n",
    "\n",
    "#match truth_eles\n",
    "reco_eles = events.ElectronBPark #[event_mask]\n",
    "# cut down on combinatorics by picking out the 'good ones' first\n",
    "reco_eles_prematched = reco_eles[events.ElectronBPark.genPartIdx >=0]\n",
    "reco_eles_prematched = reco_eles_prematched[event_mask]\n",
    "tr_pairs = truth_eles.cross(reco_eles_prematched, nested=True)\n",
    "t, r = tr_pairs.unzip()\n",
    "drs = t.delta_r(r)\n",
    "idx = drs.argmin()\n",
    "r_match = tr_pairs.i1[idx[drs[idx] < 0.05]]\n",
    "t_match = tr_pairs.i0[idx[drs[idx] < 0.05]]\n",
    "\n",
    "#print(reco_eles_prematched.size)\n",
    "#print(r_match.size)\n",
    "#print(t_match.size)\n",
    "print(t_match.flatten(1).size)\n",
    "print(t_match.size)\n",
    "n=3\n",
    "print(reco_eles_prematched[:n].counts)\n",
    "print(truth_eles[:n].counts)\n",
    "#print(reco_eles_prematched[:n])\n",
    "#print(truth_eles[:n])\n",
    "print(r_match[:n])\n",
    "print(t_match[:n])\n",
    "print(r_match.flatten(1)[:n])\n",
    "\n",
    "#print(tr_pairs[:n].summary)\n",
    "#idx\n",
    "\n",
    "#matched_t.flatten()\n",
    "#isDM1 = (dM<2)[:,0]\n",
    "#t_match[isDM1] #.pt.flatten()\n",
    "\n",
    "\n"
   ]
  },
  {
   "cell_type": "code",
   "execution_count": null,
   "metadata": {},
   "outputs": [],
   "source": [
    "genEleIndices = events.GenPart.pt.localindex[truth_ele_mask]\n",
    "\n",
    "\n",
    "#help(events.ElectronBPark) #.argmatch(events.genPart)\n",
    "#truthMatched"
   ]
  },
  {
   "cell_type": "code",
   "execution_count": null,
   "metadata": {},
   "outputs": [],
   "source": []
  }
 ],
 "metadata": {
  "kernelspec": {
   "display_name": "Python 3",
   "language": "python",
   "name": "python3"
  },
  "language_info": {
   "codemirror_mode": {
    "name": "ipython",
    "version": 3
   },
   "file_extension": ".py",
   "mimetype": "text/x-python",
   "name": "python",
   "nbconvert_exporter": "python",
   "pygments_lexer": "ipython3",
   "version": "3.6.10"
  }
 },
 "nbformat": 4,
 "nbformat_minor": 4
}
