{
 "cells": [
  {
   "cell_type": "code",
   "execution_count": 1,
   "metadata": {},
   "outputs": [],
   "source": [
    "import uproot\n",
    "import numpy as np\n",
    "import numba\n",
    "import awkward1 as ak\n",
    "\n",
    "from utils import plot\n",
    "\n",
    "cms_dict = uproot.open(\"/Users/herwig/Desktop/dominic/data/nanoAOD.root\")[\"Events\"].arrays()\n",
    "cms_dict_ak1 = {name.decode(): ak.from_awkward0(array) for name, array in cms_dict.items()}\n",
    "\n",
    "cms_events = ak.zip({\n",
    "    \"genParticles\": ak.zip({\n",
    "        \"pt\":     cms_dict_ak1[\"GenPart_pt\"],\n",
    "        \"eta\":    cms_dict_ak1[\"GenPart_eta\"],\n",
    "        \"phi\":    cms_dict_ak1[\"GenPart_phi\"],\n",
    "        \"mass\":   cms_dict_ak1[\"GenPart_mass\"],\n",
    "        \"status\": cms_dict_ak1[\"GenPart_status\"],\n",
    "        \"mother\": cms_dict_ak1[\"GenPart_genPartIdxMother\"],\n",
    "        \"pdgId\":  cms_dict_ak1[\"GenPart_pdgId\"],\n",
    "    }),\n",
    "    \"electrons\": ak.zip({\n",
    "        \"dxy\"        : cms_dict_ak1[\"Electron_dxy\"],\n",
    "        \"dxyErr\"     : cms_dict_ak1[\"Electron_dxyErr\"],\n",
    "        \"dz\"         : cms_dict_ak1[\"Electron_dz\"],\n",
    "        \"dzErr\"      : cms_dict_ak1[\"Electron_dzErr\"],\n",
    "        \"eta\"        : cms_dict_ak1[\"Electron_eta\"],\n",
    "        \"ip3d\"       : cms_dict_ak1[\"Electron_ip3d\"],\n",
    "        \"mass\"       : cms_dict_ak1[\"Electron_mass\"],\n",
    "        \"phi\"        : cms_dict_ak1[\"Electron_phi\"],\n",
    "        \"pt\"         : cms_dict_ak1[\"Electron_pt\"],\n",
    "        \"charge\"     : cms_dict_ak1[\"Electron_charge\"],\n",
    "        \"pdgId\"      : cms_dict_ak1[\"Electron_pdgId\"],\n",
    "        \"genPartIdx\" : cms_dict_ak1[\"Electron_genPartIdx\"],\n",
    "        \"genPartFlav\": cms_dict_ak1[\"Electron_genPartFlav\"],\n",
    "    })\n",
    "}, depth_limit=1)\n",
    "\n"
   ]
  },
  {
   "cell_type": "code",
   "execution_count": 2,
   "metadata": {},
   "outputs": [],
   "source": [
    "@numba.jit\n",
    "def truth_link(gen_parts_per_event, builder):\n",
    "    # first fill a dictionary containing every electron like\n",
    "    # daughter_dict[mother idx] = daughter idx\n",
    "    # where each are electrons\n",
    "    # if an ele daughter doesn't exist, give -1 index\n",
    "    # assumes multiple electrons can't have the same mother\n",
    "    \n",
    "    for gen_parts in gen_parts_per_event:\n",
    "        builder.begin_list()\n",
    "        \n",
    "        ele_mothers={} # store mother indices\n",
    "        for i in range(len(gen_parts)):            \n",
    "            if np.abs(gen_parts[i].pdgId)==11:\n",
    "                ele_idx = i\n",
    "                mother_idx = gen_parts[ele_idx].mother\n",
    "                ele_mothers[ele_idx] = mother_idx if np.abs(gen_parts[mother_idx].pdgId)==11 else -1\n",
    "                while(mother_idx>=0 and np.abs(gen_parts[mother_idx].pdgId)==11):\n",
    "                    # step through mother tree, filling dict along the way\n",
    "                    ele_idx = mother_idx\n",
    "                    mother_idx = gen_parts[ele_idx].mother\n",
    "                    ele_mothers[ele_idx]=mother_idx\n",
    "\n",
    "        first_ancestor={} # store first ancestor with the same pdgId\n",
    "        for e_idx in ele_mothers:\n",
    "            idx = e_idx\n",
    "            while idx in ele_mothers and ele_mothers[idx]>=0:\n",
    "                idx = ele_mothers[idx]\n",
    "            # (idx mother should now be -1)\n",
    "            first_ancestor[e_idx] = idx\n",
    "        \n",
    "        for i in range(len(gen_parts)):            \n",
    "            isFirst=False\n",
    "            isLast=False\n",
    "            motherPdgId=0\n",
    "\n",
    "            # record mother IDs, including those from the first ele even in the case of subseq eles\n",
    "            if gen_parts[i].mother>=0:\n",
    "                if i in first_ancestor:\n",
    "                    motherPdgId = gen_parts[gen_parts[first_ancestor[i]].mother].pdgId\n",
    "                else:\n",
    "                    motherPdgId = gen_parts[gen_parts[i].mother].pdgId\n",
    "                \n",
    "            if np.abs(gen_parts[i].pdgId)==11:\n",
    "                if i in set(ele_mothers.keys()) and ele_mothers[i]<0:\n",
    "                    #has no mother\n",
    "                    isFirst=True\n",
    "                if not (i in set(ele_mothers.values())):\n",
    "                    #no ones mother\n",
    "                    isFirst=True\n",
    "            \n",
    "            builder.begin_record()\n",
    "            builder.field(\"isFirst\")\n",
    "            builder.append(isFirst)\n",
    "            builder.field(\"isLast\")\n",
    "            builder.append(isLast)\n",
    "            builder.field(\"motherPdgId\")\n",
    "            builder.append(motherPdgId)\n",
    "            builder.end_record()\n",
    "\n",
    "        builder.end_list()\n",
    "    return builder\n",
    "\n"
   ]
  },
  {
   "cell_type": "code",
   "execution_count": 4,
   "metadata": {},
   "outputs": [],
   "source": [
    "\n",
    "\n",
    "# histogram all attributes for input quantities\n",
    "for collection in cms_events.columns:\n",
    "    n_objs = ak.num(cms_events[collection]['pt'])\n",
    "    plot(n_objs,\"n_\"+collection, xtitle=collection+\" multiplicity\")\n",
    "    continue\n",
    "    for attr in cms_events[collection].columns:\n",
    "        flat_values = ak.flatten(ak.to_list(cms_events[collection][attr]))\n",
    "        plot(flat_values,collection+'_'+attr, xtitle=collection+\" \"+attr)\n",
    "\n",
    "\n",
    "# test gen_masking\n",
    "ele_mask = np.abs(cms_events['genParticles']['pdgId']) == 11\n",
    "genEles = cms_events['genParticles'][ele_mask] # not x.mask[ele_mask]\n",
    "\n",
    "truth_builder = truth_link(cms_events['genParticles'], ak.ArrayBuilder())\n",
    "x = truth_builder.snapshot()\n",
    "\n",
    "n_objs = ak.num(genEles)\n",
    "plot(ak.num(genEles),\"n_genElectrons\", xtitle=\"gen electron multiplicity\")\n",
    "for attr in genEles.columns:\n",
    "    flat_values = ak.flatten(ak.to_list(genEles[attr]))\n",
    "    plot(flat_values,'genElectron_'+attr, xtitle=\"Gen Electron \"+attr)\n",
    "\n"
   ]
  },
  {
   "cell_type": "code",
   "execution_count": 42,
   "metadata": {},
   "outputs": [
    {
     "name": "stdout",
     "output_type": "stream",
     "text": [
      "48\n",
      "0 0\n",
      "1 0\n",
      "2 21\n",
      "3 21\n",
      "4 21\n"
     ]
    }
   ],
   "source": [
    "print( len(x['motherPdgId'][0]))\n",
    "for i in range(len(x['motherPdgId'][0])):\n",
    "    print(i, x['motherPdgId'][0][i] )\n",
    "    if i > 3: break"
   ]
  },
  {
   "cell_type": "code",
   "execution_count": 47,
   "metadata": {},
   "outputs": [
    {
     "name": "stdout",
     "output_type": "stream",
     "text": [
      "0 21 -1 0\n",
      "1 -1 -1 0\n",
      "2 1000023 0 21\n",
      "3 1000022 0 21\n",
      "4 21 0 21\n"
     ]
    }
   ],
   "source": [
    "#ele_mask[0]\n",
    "#cms_events['genParticles']['pdgId'][0]\n",
    "#ak.to_list(cms_events['genParticles']['pdgId'][0])\n",
    "for i in range(len( cms_events['genParticles']['pdgId'] )):\n",
    "    print( i, cms_events['genParticles']['pdgId'][0][i], cms_events['genParticles']['mother'][0][i], x['motherPdgId'][0][i] )\n",
    "    if i > 3: break"
   ]
  },
  {
   "cell_type": "code",
   "execution_count": 45,
   "metadata": {},
   "outputs": [
    {
     "data": {
      "text/plain": [
       "<Array [[False, False, False, ... True, True]] type='1108 * var * bool'>"
      ]
     },
     "execution_count": 45,
     "metadata": {},
     "output_type": "execute_result"
    }
   ],
   "source": [
    "ele_mask = np.abs(cms_events['genParticles']['pdgId']) == 11\n",
    "ele_mask"
   ]
  },
  {
   "cell_type": "code",
   "execution_count": 50,
   "metadata": {},
   "outputs": [
    {
     "data": {
      "text/plain": [
       "<Array [[False, False, ... False, False]] type='1108 * var * bool'>"
      ]
     },
     "execution_count": 50,
     "metadata": {},
     "output_type": "execute_result"
    }
   ],
   "source": [
    "z_mask = np.abs(x['motherPdgId']) == 23\n",
    "z_mask"
   ]
  },
  {
   "cell_type": "code",
   "execution_count": 51,
   "metadata": {},
   "outputs": [],
   "source": [
    "good_ele_mask = ele_mask & z_mask"
   ]
  },
  {
   "cell_type": "code",
   "execution_count": 56,
   "metadata": {},
   "outputs": [
    {
     "data": {
      "text/plain": [
       "[2, 0, 0, 0, 0, 2, 0, 0, 0, 0, 2, 2, 0, 0, 0, 2, 0, 0, 0, 0]"
      ]
     },
     "execution_count": 56,
     "metadata": {},
     "output_type": "execute_result"
    }
   ],
   "source": [
    "ak.to_list(ak.num(cms_events['genParticles'][good_ele_mask]))[:20]"
   ]
  },
  {
   "cell_type": "code",
   "execution_count": 57,
   "metadata": {},
   "outputs": [],
   "source": [
    "cms_events['genParticles']['motherPdgId'] = x['motherPdgId']"
   ]
  },
  {
   "cell_type": "code",
   "execution_count": 60,
   "metadata": {},
   "outputs": [
    {
     "data": {
      "text/plain": [
       "['pt', 'eta', 'phi', 'mass', 'status', 'mother', 'pdgId']"
      ]
     },
     "execution_count": 60,
     "metadata": {},
     "output_type": "execute_result"
    }
   ],
   "source": [
    "cms_events['genParticles'].columns"
   ]
  },
  {
   "cell_type": "code",
   "execution_count": null,
   "metadata": {},
   "outputs": [],
   "source": []
  },
  {
   "cell_type": "code",
   "execution_count": null,
   "metadata": {},
   "outputs": [],
   "source": []
  }
 ],
 "metadata": {
  "kernelspec": {
   "display_name": "Python 3",
   "language": "python",
   "name": "python3"
  },
  "language_info": {
   "codemirror_mode": {
    "name": "ipython",
    "version": 3
   },
   "file_extension": ".py",
   "mimetype": "text/x-python",
   "name": "python",
   "nbconvert_exporter": "python",
   "pygments_lexer": "ipython3",
   "version": "3.7.3"
  }
 },
 "nbformat": 4,
 "nbformat_minor": 2
}
